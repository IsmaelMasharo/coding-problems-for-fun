{
 "cells": [
  {
   "cell_type": "markdown",
   "metadata": {},
   "source": [
    "### Extend array:\n",
    "\n",
    "```python\n",
    "array1 = [1, 2, 3]\n",
    "array2 = [4, 5, 6]\n",
    "array3 = [7, 8, 9]\n",
    "\n",
    "array1 += array2\n",
    "print(array1)\n",
    ">>> [1, 2, 3, 4, 5, 6]\n",
    "\n",
    "array1.extend(array3)\n",
    "print(array1)\n",
    ">>> [1, 2, 3, 4, 5, 6, 7, 8, 9]\n",
    "```\n",
    "\n",
    "### Floor division\n",
    "```python\n",
    "integer1 = 6\n",
    "integer2 = 7\n",
    "\n",
    "print(integer1/2)\n",
    ">>> 3\n",
    "print(integer2/2)\n",
    ">>> 3.5\n",
    "\n",
    "print(integer1//2)\n",
    ">>> 3\n",
    "print(integer2//2)\n",
    ">>> 3\n",
    "```"
   ]
  },
  {
   "cell_type": "markdown",
   "metadata": {},
   "source": [
    "### Memory allocation\n",
    "```python\n",
    "b, c, d = [[]] * 3\n",
    "b = c = d = []\n",
    "```\n",
    "The above statements are equivalent, meaning that variables b, c and d reference to the same memory address. This is way modifying one affects all of the variables who share the same memory address.\n",
    "\n",
    "**references**\n",
    "- [real python](https://realpython.com/pointers-in-python/)\n",
    "- [medium](https://medium.com/@tyastropheus/tricky-python-i-memory-management-for-mutable-immutable-objects-21507d1e5b95)\n",
    "- [stack overflow - list multiplication by number](https://stackoverflow.com/questions/240178/list-of-lists-changes-reflected-across-sublists-unexpectedly)\n",
    "- [stack overflow - objects with same memory allocation](https://stackoverflow.com/questions/40514829/different-class-instances-use-same-memory-location)"
   ]
  },
  {
   "cell_type": "code",
   "execution_count": 21,
   "metadata": {},
   "outputs": [
    {
     "name": "stdout",
     "output_type": "stream",
     "text": [
      "[[], [], []]\n",
      "[[1], [1], [1]]\n"
     ]
    }
   ],
   "source": [
    "a = [[]] * 3\n",
    "print(a)\n",
    "a[0].append(1)\n",
    "print(a)"
   ]
  },
  {
   "cell_type": "code",
   "execution_count": 18,
   "metadata": {},
   "outputs": [
    {
     "name": "stdout",
     "output_type": "stream",
     "text": [
      "[[], [], []]\n",
      "[[1], [1], [1]]\n",
      "[] [] []\n",
      "[1] [1] [1]\n"
     ]
    }
   ],
   "source": [
    "b, c, d = [[]] * 3\n",
    "print(b, c, d)\n",
    "b.append(1)\n",
    "print(b, c, d)"
   ]
  },
  {
   "cell_type": "code",
   "execution_count": 22,
   "metadata": {},
   "outputs": [
    {
     "name": "stdout",
     "output_type": "stream",
     "text": [
      "<object object at 0x7f5e4592cda0> <object object at 0x7f5e4592cda0>\n",
      "140042870902176 140042870902176\n"
     ]
    }
   ],
   "source": [
    "f, g = [object()]*2\n",
    "print(f, g)\n",
    "print(id(f), id(g))"
   ]
  }
 ],
 "metadata": {
  "kernelspec": {
   "display_name": "Python [conda env:root] *",
   "language": "python",
   "name": "conda-root-py"
  },
  "language_info": {
   "codemirror_mode": {
    "name": "ipython",
    "version": 3
   },
   "file_extension": ".py",
   "mimetype": "text/x-python",
   "name": "python",
   "nbconvert_exporter": "python",
   "pygments_lexer": "ipython3",
   "version": "3.7.3"
  }
 },
 "nbformat": 4,
 "nbformat_minor": 4
}
