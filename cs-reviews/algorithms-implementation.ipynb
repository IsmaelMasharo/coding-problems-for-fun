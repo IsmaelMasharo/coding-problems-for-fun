{
 "cells": [
  {
   "cell_type": "code",
   "execution_count": 1,
   "metadata": {},
   "outputs": [],
   "source": [
    "from IPython.core.debugger import set_trace"
   ]
  },
  {
   "cell_type": "markdown",
   "metadata": {},
   "source": [
    "### Merge Sort\n",
    "Divide and conquer approach. \n",
    "1. Split array in have. **Divide function**\n",
    "2. Recursive calls to main with each have. **Conquer (solving subproblems)**\n",
    "3. Return the ourput of a **Merge function**\n",
    "\n",
    "**Resources**: \n",
    "- [geekforgeeks](https://www.geeksforgeeks.org/merge-sort/)\n",
    "- [simplified python](https://www.simplifiedpython.net/merge-sort-python/)"
   ]
  },
  {
   "cell_type": "code",
   "execution_count": 2,
   "metadata": {},
   "outputs": [],
   "source": [
    "def merge(left_array, right_array):\n",
    "\n",
    "    sorted_array = []\n",
    "    left_index, right_index = 0, 0\n",
    "    left_len = len(left_array)\n",
    "    right_len = len(right_array)\n",
    "\n",
    "#     while len(left_array[left_index:]) and len(right_array[right_index:]):\n",
    "    while left_index < left_len and right_index < right_len:\n",
    "        if left_array[left_index] <= right_array[right_index]:\n",
    "            sorted_array.append(left_array[left_index])\n",
    "            left_index += 1\n",
    "        else:\n",
    "            sorted_array.append(right_array[right_index])\n",
    "            right_index += 1\n",
    "#     set_trace()\n",
    "    if left_array[left_index:]:\n",
    "        # same as: sorted_array += left_array[left_index:]\n",
    "        # extend == +=\n",
    "        sorted_array.extend(left_array[left_index:])\n",
    "    else:\n",
    "        sorted_array.extend(right_array[right_index:])\n",
    "    \n",
    "    return sorted_array\n",
    "\n",
    "def merge_sort(array):\n",
    "    # base case:\n",
    "    if len(array) in [0, 1]: return array\n",
    "    \n",
    "    # spliting\n",
    "    # len(array): integer, /2: floor division : \n",
    "    # result: float if len(array)%2 != 0 else int... then:\n",
    "    # middle = int(len(array)/2)\n",
    "    # len(array)//2 is a floor division\n",
    "    middle = len(array)//2\n",
    "    left_portion = array[:middle]\n",
    "    right_portion = array[middle:]\n",
    "    \n",
    "    # recursive calls\n",
    "    left_split = merge_sort(left_portion)\n",
    "    right_split = merge_sort(right_portion)\n",
    "    \n",
    "    # merge\n",
    "    return merge(left_split, right_split)\n"
   ]
  },
  {
   "cell_type": "code",
   "execution_count": 3,
   "metadata": {},
   "outputs": [],
   "source": [
    "assert merge_sort([]) == []\n",
    "assert merge_sort([1]) == [1]\n",
    "assert merge_sort([2,1]) == [1,2]\n",
    "assert merge_sort([2,1,3]) == [1,2,3]\n",
    "assert merge_sort([1,6,2,3,4,5]) == [1,2,3,4,5,6]"
   ]
  },
  {
   "cell_type": "markdown",
   "metadata": {},
   "source": [
    "### QuickSort"
   ]
  },
  {
   "cell_type": "code",
   "execution_count": 1,
   "metadata": {},
   "outputs": [],
   "source": [
    "def partition(array, start, end):\n",
    "    p_index = (start + end)//2\n",
    "    p_value = array[p_index]\n",
    "    left_index = start\n",
    "    right_index = end\n",
    "    \n",
    "    while left_index <= right_index:\n",
    "#         set_trace()\n",
    "        while left_index <= end and (array[left_index] < p_value or left_index == p_index):\n",
    "            left_index += 1\n",
    "\n",
    "        while right_index >= start and (array[right_index] > p_value or right_index == p_index):\n",
    "            right_index -= 1\n",
    "\n",
    "        if left_index < right_index:\n",
    "            array[left_index], array[right_index] = array[right_index], array[left_index]\n",
    "            left_index += 1\n",
    "            right_index -= 1\n",
    "\n",
    "    # in the last iteration, if left_index <= right_index then left++ (last swap) \n",
    "    # therefore, left position is updated innecesary since it doesnt statisfy the condition\n",
    "    if left_index > start:\n",
    "        left_index -= 1\n",
    "    array[left_index], array[p_index] = array[p_index], array[left_index]\n",
    "    return left_index\n",
    "\n",
    "def _quick_sort(array, start, end):\n",
    "    \n",
    "    # base case\n",
    "    if start > end: return array\n",
    "    if not array: return array\n",
    "\n",
    "    # divide\n",
    "    partition_index = partition(array, start, end)\n",
    "    _quick_sort(array, start, partition_index - 1)\n",
    "    _quick_sort(array, partition_index + 1, end)\n",
    "\n",
    "    return array\n",
    "\n",
    "def quick_sort(array):\n",
    "    return _quick_sort(array, 0, len(array)-1)\n"
   ]
  },
  {
   "cell_type": "code",
   "execution_count": 2,
   "metadata": {},
   "outputs": [],
   "source": [
    "assert quick_sort([]) == []\n",
    "assert quick_sort([-1]) == [-1]\n",
    "assert quick_sort([5,2,9,14,4,11]) == sorted([5,2,9,14,4,11])\n",
    "assert quick_sort([2,14,0,-1,80,6,4,4,4,1,9]) == sorted([2,14,0,-1,80,6,4,4,4,1,9])"
   ]
  },
  {
   "cell_type": "code",
   "execution_count": 31,
   "metadata": {},
   "outputs": [],
   "source": [
    "def partition(_list, start, end):\n",
    "    follower = leader = start\n",
    "\n",
    "    while leader < end:\n",
    "        if _list[leader] <= _list[end]:\n",
    "            _list[follower], _list[leader] = _list[leader], _list[follower]\n",
    "            follower += 1\n",
    "        leader += 1\n",
    "\n",
    "    _list[follower], _list[end] = _list[end], _list[follower]\n",
    "    return follower\n",
    "\n",
    "def _quicksort(xs, start, end):\n",
    "    if start >= end: return xs\n",
    "    if len(xs) == 0: return []\n",
    "    \n",
    "    p = partition(xs, start, end)\n",
    "    _quicksort(xs, start, p-1)\n",
    "    _quicksort(xs, p+1, end)\n",
    "    \n",
    "    return xs\n",
    "    \n",
    "def quick_sort(xs):\n",
    "    return _quicksort(xs, 0, len(xs)-1)"
   ]
  },
  {
   "cell_type": "code",
   "execution_count": 32,
   "metadata": {},
   "outputs": [],
   "source": [
    "assert quick_sort([]) == []\n",
    "assert quick_sort([-1]) == [-1]\n",
    "assert quick_sort([5,2,9,14,4,11]) == sorted([5,2,9,14,4,11])\n",
    "assert quick_sort([2,14,0,-1,80,6,4,4,4,1,9]) == sorted([2,14,0,-1,80,6,4,4,4,1,9])"
   ]
  },
  {
   "cell_type": "markdown",
   "metadata": {},
   "source": [
    "### HeapSort\n",
    "- Using the heap data structure defined in `data-structures-implementation.ipnb`"
   ]
  },
  {
   "cell_type": "code",
   "execution_count": 55,
   "metadata": {},
   "outputs": [],
   "source": [
    "def sift_down_element(heap, heap_size, parent):\n",
    "    while parent < heap_size:\n",
    "        \n",
    "        left = parent*2 + 1\n",
    "        right = parent*2 + 2\n",
    "        largest = parent\n",
    "\n",
    "        if left < heap_size and heap[largest] < heap[left]:\n",
    "            largest = left\n",
    "\n",
    "        if right < heap_size and heap[largest] < heap[right]:\n",
    "            largest = right\n",
    "            \n",
    "        if largest != parent:\n",
    "            heap[parent], heap[largest] = heap[largest], heap[parent]\n",
    "            parent = largest\n",
    "        else:\n",
    "            break\n",
    "\n",
    "def heapify(list_):\n",
    "    size = len(list_)\n",
    "    parent = (size//2)-1\n",
    "    while parent >= 0:\n",
    "        sift_down_element(list_, size, parent)\n",
    "        parent -= 1\n",
    "        \n",
    "def heap_sort(list_):\n",
    "    if not list_: return list_\n",
    "    \n",
    "    heapify(list_)\n",
    "    size = len(list_)\n",
    "    for i in range(size-1, 0, -1):\n",
    "        list_[0], list_[i] = list_[i], list_[0]\n",
    "        size -= 1\n",
    "        sift_down_element(list_, size, 0)\n",
    "    return list_\n"
   ]
  },
  {
   "cell_type": "code",
   "execution_count": 57,
   "metadata": {},
   "outputs": [],
   "source": [
    "assert heap_sort([]) == []\n",
    "assert heap_sort([-1]) == [-1]\n",
    "assert heap_sort([5,2,9,14,4,11]) == sorted([5,2,9,14,4,11])\n",
    "assert heap_sort([2,14,0,-1,80,6,4,4,4,1,9]) == sorted([2,14,0,-1,80,6,4,4,4,1,9])"
   ]
  },
  {
   "cell_type": "code",
   "execution_count": null,
   "metadata": {},
   "outputs": [],
   "source": []
  }
 ],
 "metadata": {
  "kernelspec": {
   "display_name": "Python 3",
   "language": "python",
   "name": "python3"
  },
  "language_info": {
   "codemirror_mode": {
    "name": "ipython",
    "version": 3
   },
   "file_extension": ".py",
   "mimetype": "text/x-python",
   "name": "python",
   "nbconvert_exporter": "python",
   "pygments_lexer": "ipython3",
   "version": "3.7.3"
  }
 },
 "nbformat": 4,
 "nbformat_minor": 4
}
