{
 "cells": [
  {
   "cell_type": "markdown",
   "metadata": {},
   "source": [
    "### LinkdList"
   ]
  },
  {
   "cell_type": "code",
   "execution_count": 15,
   "metadata": {},
   "outputs": [],
   "source": [
    "class Node:\n",
    "    def __init__(self, value=None):\n",
    "        self.value = value\n",
    "        self.link = None\n",
    "\n",
    "class LinkdList:\n",
    "    \n",
    "    def __init__(self, value=None):\n",
    "        self.root = Node(value) if value else None\n",
    "\n",
    "    def appendNode(self, value):\n",
    "        new_node = Node(value)\n",
    "        if self.root is None: \n",
    "            self.root = new_node\n",
    "        else: \n",
    "            current_node = self.root\n",
    "            while(current_node.link is not None):\n",
    "                current_node = current_node.link\n",
    "            current_node.link = new_node\n",
    "\n",
    "    def preprendNode(self, value):\n",
    "        new_node = Node(value)\n",
    "        if self.root is None:\n",
    "            self.root = new_node\n",
    "        else:\n",
    "            temp_root = self.root\n",
    "            self.root = new_node\n",
    "            self.root.link = temp_root\n",
    "\n",
    "    def tranverseLinkdList(self):\n",
    "        values = ''\n",
    "        current_node = self.root\n",
    "        while(current_node is not None):\n",
    "            values += ('->' if values else '') + str(current_node.value)\n",
    "            current_node = current_node.link\n",
    "        return values\n",
    "    \n",
    "    def size(self):\n",
    "        count = 0\n",
    "        current_node = self.root\n",
    "        while(current_node is not None):\n",
    "            count += 1\n",
    "            current_node = current_node.link\n",
    "        return count\n"
   ]
  },
  {
   "cell_type": "code",
   "execution_count": 16,
   "metadata": {},
   "outputs": [],
   "source": [
    "l_list = LinkdList()\n",
    "for value in range(10):\n",
    "    l_list.appendNode(value)\n",
    "assert l_list.tranverseLinkdList() == '0->1->2->3->4->5->6->7->8->9'\n",
    "assert l_list.size() == 10 "
   ]
  },
  {
   "cell_type": "markdown",
   "metadata": {},
   "source": [
    "### [Heaps](https://brilliant.org/wiki/heap-sort/#citation-2)\n",
    ">The main idea is described with the following picture:  \n",
    "<img src=\"images/heap-as-array.png\" width=\"400\" align=\"center\">\n",
    "\n",
    "Resources:\n",
    "- [Sift down vs sift up](https://stackoverflow.com/questions/34329942/siftup-and-siftdown-operation-in-heap-for-heapifying-an-array)\n",
    "- [Reason for calling heapify from middle of list](https://stackoverflow.com/questions/40822475/the-reason-of-calling-heapify-from-the-middle-of-the-array-when-building-a-heap)\n",
    "\n",
    "    \n",
    "    "
   ]
  },
  {
   "cell_type": "markdown",
   "metadata": {},
   "source": [
    "#### **Creating max heap**: list to heap"
   ]
  },
  {
   "cell_type": "code",
   "execution_count": 1,
   "metadata": {},
   "outputs": [],
   "source": [
    "def sift_down_element(heap, heap_size, parent):\n",
    "    \"\"\"\n",
    "    Description:\n",
    "        - Analizes parent's value in order to keep MAX-HEAP property.\n",
    "          While parent's value is less than of its children then swap\n",
    "          the positions and analize the new parent's position.\n",
    "    Input:\n",
    "        - heap: list alike heap.\n",
    "        - heap_size: size of the list\n",
    "        - parent: index of the heap element to analize\n",
    "    Variables:\n",
    "        - left: left child index\n",
    "        - right: right child index\n",
    "        - largest: index of the greatest value between children and parent's values\n",
    "    \"\"\"\n",
    "\n",
    "    while parent < heap_size:\n",
    "        \n",
    "        left = parent*2 + 1\n",
    "        right = parent*2 + 2\n",
    "        largest = parent\n",
    "\n",
    "        if left < heap_size and heap[parent] < heap[left]:\n",
    "            largest = left\n",
    "\n",
    "        if right < heap_size and heap[parent] < heap[right]:\n",
    "            largest = right\n",
    "            \n",
    "        if largest != parent:\n",
    "            heap[parent], heap[largest] = heap[largest], heap[parent]\n",
    "            parent = largest\n",
    "        else:\n",
    "            break\n",
    "\n",
    "def heapify(list_, size):\n",
    "    \"\"\"\n",
    "    Description:\n",
    "        - Builds a heap. Loops trough input elements\n",
    "          and uses the function sift_down_element on them.\n",
    "\n",
    "    Input:\n",
    "        - list_: list to be turned into a heap; shape.\n",
    "        - size: list size.\n",
    "    \n",
    "    Variables:\n",
    "        - parent: index of the element to be treated as a parent\n",
    "                  and swapping value with its children if necesary\n",
    "                  to keep heap properties.\n",
    "     \"\"\"\n",
    "\n",
    "    parent = (size//2)-1\n",
    "    \n",
    "    while parent >= 0:\n",
    "        sift_down_element(list_, size, parent)\n",
    "        parent -= 1"
   ]
  },
  {
   "cell_type": "markdown",
   "metadata": {},
   "source": [
    "#### **Modifying heap**: Insertion, deletion"
   ]
  },
  {
   "cell_type": "code",
   "execution_count": 4,
   "metadata": {
    "scrolled": true
   },
   "outputs": [],
   "source": [
    "def sift_up_element(heap, child):\n",
    "    \"\"\"\n",
    "    Description:\n",
    "        - Analizes child's value in order to keep MAX-HEAP property.\n",
    "          While child's value is greater than of its parent then swap\n",
    "          the positions and analize the new child's position.\n",
    "    Input:\n",
    "        - heap: list alike heap.\n",
    "        - child: index of the heap element to analize\n",
    "    Variables:\n",
    "        - parent: parent index\n",
    "     \"\"\"\n",
    "    \n",
    "    while (child - 1)//2 > 0:\n",
    "        parent = (child - 1)//2\n",
    "        if heap[parent] < heap[child]:\n",
    "            heap[parent], heap[child] = heap[child], heap[parent]\n",
    "            child = parent\n",
    "        else:\n",
    "            break\n",
    "\n",
    "def insert_into_heap(heap, value):\n",
    "    heap.append(value)\n",
    "    sift_up_element(heap, len(heap) - 1)\n",
    "\n",
    "def pop_max_from_heap(heap, value):\n",
    "    last = heap.pop()\n",
    "    largest = heap[0]\n",
    "    heap[0] = last\n",
    "    sift_down_element(heap, len(heap), 0)"
   ]
  }
 ],
 "metadata": {
  "kernelspec": {
   "display_name": "Python [conda env:root] *",
   "language": "python",
   "name": "conda-root-py"
  },
  "language_info": {
   "codemirror_mode": {
    "name": "ipython",
    "version": 3
   },
   "file_extension": ".py",
   "mimetype": "text/x-python",
   "name": "python",
   "nbconvert_exporter": "python",
   "pygments_lexer": "ipython3",
   "version": "3.7.3"
  }
 },
 "nbformat": 4,
 "nbformat_minor": 4
}
