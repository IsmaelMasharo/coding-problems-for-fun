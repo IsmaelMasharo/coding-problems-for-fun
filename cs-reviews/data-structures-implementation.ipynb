{
 "cells": [
  {
   "cell_type": "markdown",
   "metadata": {},
   "source": [
    "### LinkdList"
   ]
  },
  {
   "cell_type": "code",
   "execution_count": 15,
   "metadata": {},
   "outputs": [],
   "source": [
    "class Node:\n",
    "    def __init__(self, value=None):\n",
    "        self.value = value\n",
    "        self.link = None\n",
    "\n",
    "class LinkdList:\n",
    "    \n",
    "    def __init__(self, value=None):\n",
    "        self.root = Node(value) if value else None\n",
    "\n",
    "    def appendNode(self, value):\n",
    "        new_node = Node(value)\n",
    "        if self.root is None: \n",
    "            self.root = new_node\n",
    "        else: \n",
    "            current_node = self.root\n",
    "            while(current_node.link is not None):\n",
    "                current_node = current_node.link\n",
    "            current_node.link = new_node\n",
    "\n",
    "    def preprendNode(self, value):\n",
    "        new_node = Node(value)\n",
    "        if self.root is None:\n",
    "            self.root = new_node\n",
    "        else:\n",
    "            temp_root = self.root\n",
    "            self.root = new_node\n",
    "            self.root.link = temp_root\n",
    "\n",
    "    def tranverseLinkdList(self):\n",
    "        values = ''\n",
    "        current_node = self.root\n",
    "        while(current_node is not None):\n",
    "            values += ('->' if values else '') + str(current_node.value)\n",
    "            current_node = current_node.link\n",
    "        return values\n",
    "    \n",
    "    def size(self):\n",
    "        count = 0\n",
    "        current_node = self.root\n",
    "        while(current_node is not None):\n",
    "            count += 1\n",
    "            current_node = current_node.link\n",
    "        return count\n"
   ]
  },
  {
   "cell_type": "code",
   "execution_count": 16,
   "metadata": {},
   "outputs": [],
   "source": [
    "l_list = LinkdList()\n",
    "for value in range(10):\n",
    "    l_list.appendNode(value)\n",
    "assert l_list.tranverseLinkdList() == '0->1->2->3->4->5->6->7->8->9'\n",
    "assert l_list.size() == 10 "
   ]
  }
 ],
 "metadata": {
  "kernelspec": {
   "display_name": "Python [conda env:root] *",
   "language": "python",
   "name": "conda-root-py"
  },
  "language_info": {
   "codemirror_mode": {
    "name": "ipython",
    "version": 3
   },
   "file_extension": ".py",
   "mimetype": "text/x-python",
   "name": "python",
   "nbconvert_exporter": "python",
   "pygments_lexer": "ipython3",
   "version": "3.7.3"
  }
 },
 "nbformat": 4,
 "nbformat_minor": 4
}
