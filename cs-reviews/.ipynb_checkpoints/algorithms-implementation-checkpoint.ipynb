{
 "cells": [
  {
   "cell_type": "code",
   "execution_count": 1,
   "metadata": {},
   "outputs": [],
   "source": [
    "from IPython.core.debugger import set_trace"
   ]
  },
  {
   "cell_type": "markdown",
   "metadata": {},
   "source": [
    "### Merge Sort\n",
    "Divide and conquer approach. \n",
    "1. Split array in have. **Divide function**\n",
    "2. Recursive calls to main with each have. **Conquer (solving subproblems)**\n",
    "3. Return the ourput of a **Merge function**\n",
    "\n",
    "**Resources**: \n",
    "- [geekforgeeks](https://www.geeksforgeeks.org/merge-sort/)\n",
    "- [simplified python](https://www.simplifiedpython.net/merge-sort-python/)"
   ]
  },
  {
   "cell_type": "code",
   "execution_count": 2,
   "metadata": {},
   "outputs": [],
   "source": [
    "def merge(left_array, right_array):\n",
    "\n",
    "    sorted_array = []\n",
    "    left_index, right_index = 0, 0\n",
    "    left_len = len(left_array)\n",
    "    right_len = len(right_array)\n",
    "\n",
    "#     while len(left_array[left_index:]) and len(right_array[right_index:]):\n",
    "    while left_index < left_len and right_index < right_len:\n",
    "        if left_array[left_index] <= right_array[right_index]:\n",
    "            sorted_array.append(left_array[left_index])\n",
    "            left_index += 1\n",
    "        else:\n",
    "            sorted_array.append(right_array[right_index])\n",
    "            right_index += 1\n",
    "#     set_trace()\n",
    "    if left_array[left_index:]:\n",
    "        # same as: sorted_array += left_array[left_index:]\n",
    "        # extend == +=\n",
    "        sorted_array.extend(left_array[left_index:])\n",
    "    else:\n",
    "        sorted_array.extend(right_array[right_index:])\n",
    "    \n",
    "    return sorted_array\n",
    "\n",
    "def merge_sort(array):\n",
    "    # base case:\n",
    "    if len(array) in [0, 1]: return array\n",
    "    \n",
    "    # spliting\n",
    "    # len(array): integer, /2: floor division : \n",
    "    # result: float if len(array)%2 != 0 else int... then:\n",
    "    # middle = int(len(array)/2)\n",
    "    # len(array)//2 is a floor division\n",
    "    middle = len(array)//2\n",
    "    left_portion = array[:middle]\n",
    "    right_portion = array[middle:]\n",
    "    \n",
    "    # recursive calls\n",
    "    left_split = merge_sort(left_portion)\n",
    "    right_split = merge_sort(right_portion)\n",
    "    \n",
    "    # merge\n",
    "    return merge(left_split, right_split)\n"
   ]
  },
  {
   "cell_type": "code",
   "execution_count": 3,
   "metadata": {},
   "outputs": [],
   "source": [
    "assert merge_sort([]) == []\n",
    "assert merge_sort([1]) == [1]\n",
    "assert merge_sort([2,1]) == [1,2]\n",
    "assert merge_sort([2,1,3]) == [1,2,3]\n",
    "assert merge_sort([1,6,2,3,4,5]) == [1,2,3,4,5,6]"
   ]
  }
 ],
 "metadata": {
  "kernelspec": {
   "display_name": "Python [conda env:root] *",
   "language": "python",
   "name": "conda-root-py"
  },
  "language_info": {
   "codemirror_mode": {
    "name": "ipython",
    "version": 3
   },
   "file_extension": ".py",
   "mimetype": "text/x-python",
   "name": "python",
   "nbconvert_exporter": "python",
   "pygments_lexer": "ipython3",
   "version": "3.7.3"
  }
 },
 "nbformat": 4,
 "nbformat_minor": 4
}
