{
 "cells": [
  {
   "cell_type": "code",
   "execution_count": 1,
   "metadata": {},
   "outputs": [],
   "source": [
    "from IPython.core.debugger import set_trace"
   ]
  },
  {
   "cell_type": "markdown",
   "metadata": {},
   "source": [
    "### Merge Sort\n",
    "Divide and conquer approach. \n",
    "1. Split array in have. **Divide function**\n",
    "2. Recursive calls to main with each have. **Conquer (solving subproblems)**\n",
    "3. Return the ourput of a **Merge function**\n",
    "\n",
    "**Resources**: \n",
    "- [geekforgeeks](https://www.geeksforgeeks.org/merge-sort/)\n",
    "- [simplified python](https://www.simplifiedpython.net/merge-sort-python/)"
   ]
  },
  {
   "cell_type": "code",
   "execution_count": 2,
   "metadata": {},
   "outputs": [],
   "source": [
    "def merge(left_array, right_array):\n",
    "\n",
    "    sorted_array = []\n",
    "    left_index, right_index = 0, 0\n",
    "    left_len = len(left_array)\n",
    "    right_len = len(right_array)\n",
    "\n",
    "#     while len(left_array[left_index:]) and len(right_array[right_index:]):\n",
    "    while left_index < left_len and right_index < right_len:\n",
    "        if left_array[left_index] <= right_array[right_index]:\n",
    "            sorted_array.append(left_array[left_index])\n",
    "            left_index += 1\n",
    "        else:\n",
    "            sorted_array.append(right_array[right_index])\n",
    "            right_index += 1\n",
    "    if left_array[left_index:]:\n",
    "        sorted_array.extend(left_array[left_index:])\n",
    "    else:\n",
    "        sorted_array.extend(right_array[right_index:])\n",
    "    \n",
    "    return sorted_array\n",
    "\n",
    "def merge_sort(array):\n",
    "    # base case:\n",
    "    if len(array) in [0, 1]: return array\n",
    "\n",
    "    # divide\n",
    "    middle = len(array)//2\n",
    "    left_portion = array[:middle]\n",
    "    right_portion = array[middle:]\n",
    "    \n",
    "    # recursive calls\n",
    "    left_split = merge_sort(left_portion)\n",
    "    right_split = merge_sort(right_portion)\n",
    "    \n",
    "    # conquer\n",
    "    return merge(left_split, right_split)\n"
   ]
  },
  {
   "cell_type": "code",
   "execution_count": 3,
   "metadata": {},
   "outputs": [],
   "source": [
    "assert merge_sort([]) == []\n",
    "assert merge_sort([1]) == [1]\n",
    "assert merge_sort([2,1]) == [1,2]\n",
    "assert merge_sort([2,1,3]) == [1,2,3]\n",
    "assert merge_sort([1,6,2,3,4,5]) == [1,2,3,4,5,6]"
   ]
  },
  {
   "cell_type": "markdown",
   "metadata": {},
   "source": [
    "### QuickSort\n",
    "Two partions types:\n",
    "- partition index at the end: easer to implement but can lead to worst case more often\n",
    "- partion index at middle (or at random place): amortized to worst case."
   ]
  },
  {
   "cell_type": "markdown",
   "metadata": {},
   "source": [
    ">`Partition index in the middle` (can be updated to be in any place)"
   ]
  },
  {
   "cell_type": "code",
   "execution_count": 1,
   "metadata": {},
   "outputs": [],
   "source": [
    "def partition(array, start, end):\n",
    "    p_index = (start + end)//2\n",
    "    p_value = array[p_index]\n",
    "    left_index = start\n",
    "    right_index = end\n",
    "    \n",
    "    while left_index <= right_index:\n",
    "        while left_index <= end and (array[left_index] < p_value or left_index == p_index):\n",
    "            left_index += 1\n",
    "\n",
    "        while right_index >= start and (array[right_index] > p_value or right_index == p_index):\n",
    "            right_index -= 1\n",
    "\n",
    "        if left_index < right_index:\n",
    "            array[left_index], array[right_index] = array[right_index], array[left_index]\n",
    "            left_index += 1\n",
    "            right_index -= 1\n",
    "\n",
    "    # in the last iteration, if left_index <= right_index then left++ (last swap) \n",
    "    # therefore, left position is updated innecesary since it fixed its value\n",
    "    if left_index > start:\n",
    "        left_index -= 1\n",
    "    array[left_index], array[p_index] = array[p_index], array[left_index]\n",
    "    return left_index\n",
    "\n",
    "def _quick_sort(array, start, end):\n",
    "    \n",
    "    # base case\n",
    "    if start > end: return array\n",
    "    if not array: return array\n",
    "\n",
    "    # divide\n",
    "    partition_index = partition(array, start, end)\n",
    "    _quick_sort(array, start, partition_index - 1)\n",
    "    _quick_sort(array, partition_index + 1, end)\n",
    "\n",
    "    return array\n",
    "\n",
    "def quick_sort(array):\n",
    "    return _quick_sort(array, 0, len(array)-1)\n"
   ]
  },
  {
   "cell_type": "code",
   "execution_count": 2,
   "metadata": {},
   "outputs": [],
   "source": [
    "assert quick_sort([]) == []\n",
    "assert quick_sort([-1]) == [-1]\n",
    "assert quick_sort([5,2,9,14,4,11]) == sorted([5,2,9,14,4,11])\n",
    "assert quick_sort([2,14,0,-1,80,6,4,4,4,1,9]) == sorted([2,14,0,-1,80,6,4,4,4,1,9])"
   ]
  },
  {
   "cell_type": "markdown",
   "metadata": {},
   "source": [
    ">`Partition index at the end:`"
   ]
  },
  {
   "cell_type": "code",
   "execution_count": 31,
   "metadata": {},
   "outputs": [],
   "source": [
    "def partition(_list, start, end):\n",
    "    follower = leader = start\n",
    "\n",
    "    while leader < end:\n",
    "        if _list[leader] <= _list[end]:\n",
    "            _list[follower], _list[leader] = _list[leader], _list[follower]\n",
    "            follower += 1\n",
    "        leader += 1\n",
    "\n",
    "    _list[follower], _list[end] = _list[end], _list[follower]\n",
    "    return follower\n",
    "\n",
    "def _quicksort(xs, start, end):\n",
    "    if start >= end: return xs\n",
    "    if len(xs) == 0: return []\n",
    "    \n",
    "    p = partition(xs, start, end)\n",
    "    _quicksort(xs, start, p-1)\n",
    "    _quicksort(xs, p+1, end)\n",
    "    \n",
    "    return xs\n",
    "    \n",
    "def quick_sort(xs):\n",
    "    return _quicksort(xs, 0, len(xs)-1)"
   ]
  },
  {
   "cell_type": "code",
   "execution_count": 32,
   "metadata": {},
   "outputs": [],
   "source": [
    "assert quick_sort([]) == []\n",
    "assert quick_sort([-1]) == [-1]\n",
    "assert quick_sort([5,2,9,14,4,11]) == sorted([5,2,9,14,4,11])\n",
    "assert quick_sort([2,14,0,-1,80,6,4,4,4,1,9]) == sorted([2,14,0,-1,80,6,4,4,4,1,9])"
   ]
  },
  {
   "cell_type": "markdown",
   "metadata": {},
   "source": [
    "### HeapSort\n",
    "- Using the heap data structure defined in `data-structures-implementation.ipnb`"
   ]
  },
  {
   "cell_type": "code",
   "execution_count": 1,
   "metadata": {},
   "outputs": [],
   "source": [
    "def sift_down_element(heap, heap_size, parent):\n",
    "    while parent < heap_size:\n",
    "        \n",
    "        left = parent*2 + 1\n",
    "        right = parent*2 + 2\n",
    "        largest = parent\n",
    "\n",
    "        if left < heap_size and heap[largest] < heap[left]:\n",
    "            largest = left\n",
    "\n",
    "        if right < heap_size and heap[largest] < heap[right]:\n",
    "            largest = right\n",
    "            \n",
    "        if largest != parent:\n",
    "            heap[parent], heap[largest] = heap[largest], heap[parent]\n",
    "            parent = largest\n",
    "        else:\n",
    "            break\n",
    "\n",
    "def heapify(list_):\n",
    "    size = len(list_)\n",
    "    parent = (size//2)-1\n",
    "    while parent >= 0:\n",
    "        sift_down_element(list_, size, parent)\n",
    "        parent -= 1\n",
    "\n",
    "def heap_sort(list_):\n",
    "    if not list_: return list_\n",
    "    \n",
    "    heapify(list_)\n",
    "    size = len(list_)\n",
    "    last = size - 1\n",
    "    for i in range(last, 0, -1):\n",
    "        list_[0], list_[i] = list_[i], list_[0]\n",
    "        size -= 1\n",
    "        sift_down_element(list_, size, 0)\n",
    "    return list_\n"
   ]
  },
  {
   "cell_type": "code",
   "execution_count": 2,
   "metadata": {},
   "outputs": [],
   "source": [
    "assert heap_sort([]) == []\n",
    "assert heap_sort([-1]) == [-1]\n",
    "assert heap_sort([5,2,9,14,4,11]) == sorted([5,2,9,14,4,11])\n",
    "assert heap_sort([2,14,0,-1,80,6,4,4,4,1,9]) == sorted([2,14,0,-1,80,6,4,4,4,1,9])"
   ]
  },
  {
   "cell_type": "markdown",
   "metadata": {},
   "source": [
    "### Depth first search\n",
    "> Algorithm for `searching or traversing` Graph and Tree data structures.\n",
    "\n",
    "> In the iterative case, a `stack` keeps track of the vertex being traversed. When a dead end is reached it pops the element.  \n",
    "> For the recursive case a stack is no longer required.  \n",
    "\n",
    "> `visited` is a variable used in order to prevent for infinite looping If there's a cycle. If a vertex has already been visited it stops the traversing.  \n",
    "> `visited_list` is a variable that keeps track of the `traversing order` since a `python set` does not.\n",
    "\n",
    "**Resources:**  \n",
    "- [simple graph visualization](https://python-graph-gallery.com/321-custom-networkx-graph-appearance/)"
   ]
  },
  {
   "cell_type": "code",
   "execution_count": 41,
   "metadata": {},
   "outputs": [
    {
     "data": {
      "image/png": "[encoded data removed]",
      "text/plain": [
       "<Figure size 432x288 with 1 Axes>"
      ]
     },
     "metadata": {},
     "output_type": "display_data"
    }
   ],
   "source": [
    "import pandas as pd\n",
    "import numpy as np\n",
    "import networkx as nx\n",
    "import matplotlib.pyplot as plt\n",
    "\n",
    "# Build a dataframe with your connections\n",
    "df = pd.DataFrame({ 'from':['A', 'A', 'B', 'B', 'B', 'C', 'C', 'D', 'E', 'E', 'F', 'F'], \n",
    "                      'to':['B', 'C', 'A', 'D', 'E', 'A', 'F', 'B', 'B', 'F', 'C', 'E']})\n",
    " \n",
    "# Build your graph\n",
    "G=nx.from_pandas_edgelist(df, 'from', 'to')\n",
    " \n",
    "# Chart with Custom edges:\n",
    "nx.draw(G, with_labels=True, width=3, edge_color=\"skyblue\", style=\"solid\")"
   ]
  },
  {
   "cell_type": "code",
   "execution_count": 33,
   "metadata": {},
   "outputs": [],
   "source": [
    "# Representing a graph as an adjacency list.\n",
    "graph = {\n",
    "         'A': set(['B', 'C']),\n",
    "         'B': set(['A', 'D', 'E']),\n",
    "         'C': set(['A', 'F']),\n",
    "         'D': set(['B']),\n",
    "         'E': set(['B', 'F']),\n",
    "         'F': set(['C', 'E'])\n",
    "}"
   ]
  },
  {
   "cell_type": "code",
   "execution_count": 61,
   "metadata": {},
   "outputs": [],
   "source": [
    "def dfs_iterative(graph, start):\n",
    "    \"\"\"\n",
    "    Iterative implementation of depth first search for keep track\n",
    "    of nodes in the order being visited starting from start vertex.\n",
    "    \n",
    "    visited: set object that helps performing difference operation\n",
    "    visited_list: use to preserve the order of traversing since sets does not\n",
    "    \"\"\"\n",
    "\n",
    "    visited, stack = set(), [start]\n",
    "    visited_list = []\n",
    "\n",
    "    while stack:\n",
    "        vertex = stack.pop()\n",
    "        if vertex not in visited:\n",
    "            visited.add(vertex)\n",
    "            visited_list.append(vertex)\n",
    "        stack.extend(graph.get(vertex) - visited)\n",
    "    return visited_list\n",
    "\n",
    "\n",
    "def dfs_recursive(graph, start, visited=set(), visited_list=[]):\n",
    "    \"\"\"\n",
    "    Recursive implementation of depth first search for keep track\n",
    "    of nodes in the order being visited starting from start vertex.\n",
    "    \n",
    "    visited: set object that helps performing difference operation\n",
    "    visited_list: use to preserve the order of traversing since sets does not\n",
    "    \"\"\"\n",
    "    \n",
    "    visited.add(start)\n",
    "    if start not in visited_list: visited_list.append(start)\n",
    "\n",
    "    for vertex in graph.get(start) - visited:\n",
    "        dfs_recursive(graph, vertex, visited, visited_list)\n",
    "\n",
    "    return visited_list"
   ]
  },
  {
   "cell_type": "code",
   "execution_count": 64,
   "metadata": {},
   "outputs": [
    {
     "name": "stdout",
     "output_type": "stream",
     "text": [
      "Traversing order from iterative implementation: ['A', 'B', 'E', 'F', 'C', 'D']\n",
      "Traversing order from recursive implementation: ['A', 'C', 'F', 'E', 'B', 'D']\n"
     ]
    }
   ],
   "source": [
    "print('Traversing order from iterative implementation:', dfs_iterative(graph, 'A'))\n",
    "print('Traversing order from recursive implementation:', dfs_recursive(graph, 'A'))"
   ]
  }
 ],
 "metadata": {
  "kernelspec": {
   "display_name": "Python 3",
   "language": "python",
   "name": "python3"
  },
  "language_info": {
   "codemirror_mode": {
    "name": "ipython",
    "version": 3
   },
   "file_extension": ".py",
   "mimetype": "text/x-python",
   "name": "python",
   "nbconvert_exporter": "python",
   "pygments_lexer": "ipython3",
   "version": "3.7.3"
  }
 },
 "nbformat": 4,
 "nbformat_minor": 4
}
