{
 "cells": [
  {
   "cell_type": "markdown",
   "metadata": {},
   "source": [
    "### LinkdList"
   ]
  },
  {
   "cell_type": "code",
   "execution_count": 15,
   "metadata": {},
   "outputs": [],
   "source": [
    "class Node:\n",
    "    def __init__(self, value=None):\n",
    "        self.value = value\n",
    "        self.link = None\n",
    "\n",
    "class LinkdList:\n",
    "    \n",
    "    def __init__(self, value=None):\n",
    "        self.root = Node(value) if value else None\n",
    "\n",
    "    def appendNode(self, value):\n",
    "        new_node = Node(value)\n",
    "        if self.root is None: \n",
    "            self.root = new_node\n",
    "        else: \n",
    "            current_node = self.root\n",
    "            while(current_node.link is not None):\n",
    "                current_node = current_node.link\n",
    "            current_node.link = new_node\n",
    "\n",
    "    def preprendNode(self, value):\n",
    "        new_node = Node(value)\n",
    "        if self.root is None:\n",
    "            self.root = new_node\n",
    "        else:\n",
    "            temp_root = self.root\n",
    "            self.root = new_node\n",
    "            self.root.link = temp_root\n",
    "\n",
    "    def tranverseLinkdList(self):\n",
    "        values = ''\n",
    "        current_node = self.root\n",
    "        while(current_node is not None):\n",
    "            values += ('->' if values else '') + str(current_node.value)\n",
    "            current_node = current_node.link\n",
    "        return values\n",
    "    \n",
    "    def size(self):\n",
    "        count = 0\n",
    "        current_node = self.root\n",
    "        while(current_node is not None):\n",
    "            count += 1\n",
    "            current_node = current_node.link\n",
    "        return count\n"
   ]
  },
  {
   "cell_type": "code",
   "execution_count": 16,
   "metadata": {},
   "outputs": [],
   "source": [
    "l_list = LinkdList()\n",
    "for value in range(10):\n",
    "    l_list.appendNode(value)\n",
    "assert l_list.tranverseLinkdList() == '0->1->2->3->4->5->6->7->8->9'\n",
    "assert l_list.size() == 10 "
   ]
  },
  {
   "cell_type": "markdown",
   "metadata": {},
   "source": [
    "### [Heaps](https://brilliant.org/wiki/heap-sort/#citation-2)\n",
    ">The main idea is described with the following picture:  \n",
    "<img src=\"images/heap-as-array.png\" width=\"400\" align=\"center\">\n",
    "\n",
    "Resources:\n",
    "- [Sift down vs sift up](https://stackoverflow.com/questions/34329942/siftup-and-siftdown-operation-in-heap-for-heapifying-an-array)\n",
    "- [Reason for calling heapify from middle of list](https://stackoverflow.com/questions/40822475/the-reason-of-calling-heapify-from-the-middle-of-the-array-when-building-a-heap)\n",
    "\n",
    "    \n",
    "    "
   ]
  },
  {
   "cell_type": "markdown",
   "metadata": {},
   "source": [
    "#### **Creating max heap**: list to heap"
   ]
  },
  {
   "cell_type": "code",
   "execution_count": 71,
   "metadata": {},
   "outputs": [],
   "source": [
    "def sift_down_element(heap, heap_size, parent):\n",
    "    \"\"\"\n",
    "    Description:\n",
    "        - Analizes parent's value in order to keep MAX-HEAP property.\n",
    "          While parent's value is less than of its children then swap\n",
    "          the positions and analize the new parent's position.\n",
    "    Input:\n",
    "        - heap: list alike heap.\n",
    "        - heap_size: size of the list\n",
    "        - parent: index of the heap element to analize\n",
    "    Variables:\n",
    "        - left: left child index\n",
    "        - right: right child index\n",
    "        - largest: index of the greatest value between children and parent's values\n",
    "    \"\"\"\n",
    "\n",
    "    while parent < heap_size:\n",
    "        \n",
    "        left = parent*2 + 1\n",
    "        right = parent*2 + 2\n",
    "        largest = parent\n",
    "\n",
    "        if left < heap_size and heap[largest] < heap[left]:\n",
    "            largest = left\n",
    "\n",
    "        if right < heap_size and heap[largest] < heap[right]:\n",
    "            largest = right\n",
    "            \n",
    "        if largest != parent:\n",
    "            heap[parent], heap[largest] = heap[largest], heap[parent]\n",
    "            parent = largest\n",
    "        else:\n",
    "            break\n",
    "            \n",
    "def heapify(list_):\n",
    "    \"\"\"\n",
    "    Description:\n",
    "        - Builds a heap. Loops trough input elements\n",
    "          and uses the function sift_down_element on them.\n",
    "\n",
    "    Input:\n",
    "        - list_: list to be turned into a heap; shape.\n",
    "    \n",
    "    Variables:\n",
    "        - parent: index of the element to be treated as a parent\n",
    "                  and swapping value with its children if necesary\n",
    "                  to keep heap properties.\n",
    "     \"\"\"\n",
    "\n",
    "    size = len(list_)\n",
    "    parent = (size//2)-1\n",
    "    \n",
    "    while parent >= 0:\n",
    "        sift_down_element(list_, size, parent)\n",
    "        parent -= 1\n",
    "    return list_"
   ]
  },
  {
   "cell_type": "code",
   "execution_count": 76,
   "metadata": {},
   "outputs": [],
   "source": [
    "assert heapify([4,2,3,5,6]) == [6,5,3,4,2]"
   ]
  },
  {
   "cell_type": "markdown",
   "metadata": {},
   "source": [
    "#### **Modifying heap**: Insertion, deletion"
   ]
  },
  {
   "cell_type": "code",
   "execution_count": 1,
   "metadata": {
    "scrolled": true
   },
   "outputs": [],
   "source": [
    "def sift_up_element(heap, child):\n",
    "    \"\"\"\n",
    "    Description:\n",
    "        - Analizes child's value in order to keep MAX-HEAP property.\n",
    "          While child's value is greater than of its parent then swap\n",
    "          the positions and analize the new child's position.\n",
    "    Input:\n",
    "        - heap: list alike heap.\n",
    "        - child: index of the heap element to analize\n",
    "    Variables:\n",
    "        - parent: parent index\n",
    "     \"\"\"\n",
    "    \n",
    "    while (child - 1)//2 > 0:\n",
    "        parent = (child - 1)//2\n",
    "        if heap[parent] < heap[child]:\n",
    "            heap[parent], heap[child] = heap[child], heap[parent]\n",
    "            child = parent\n",
    "        else:\n",
    "            break\n",
    "\n",
    "def insert_into_heap(heap, value):\n",
    "    heap.append(value)\n",
    "    sift_up_element(heap, len(heap) - 1)\n",
    "\n",
    "def pop_max_from_heap(heap, value):\n",
    "    last = heap.pop()\n",
    "    largest = heap[0]\n",
    "    heap[0] = last\n",
    "    sift_down_element(heap, len(heap), 0)\n"
   ]
  },
  {
   "cell_type": "markdown",
   "metadata": {},
   "source": [
    "### Graphs"
   ]
  },
  {
   "cell_type": "code",
   "execution_count": 53,
   "metadata": {},
   "outputs": [],
   "source": [
    "from collections import defaultdict\n",
    "\n",
    "class Graph:\n",
    "\n",
    "    def __init__(self):\n",
    "        self.graph = defaultdict(set)\n",
    "\n",
    "    def add_edge(self, u, v):\n",
    "        self.graph[u].add(v)\n",
    "    \n",
    "    def add_edge_list(self, edge_list):\n",
    "        for (u, v) in edge_list:\n",
    "            self.add_edge(u, v)\n",
    "\n",
    "            \n",
    "    def dfs_traversal(self, start):\n",
    "        return 'Depth first traversal starting from {}: {}'.format(start,\n",
    "                list(self._dfs_traversal(start)).__str__())\n",
    "    \n",
    "    def _dfs_traversal(self, start):\n",
    "        visited, stack = set(), [start]\n",
    "        \n",
    "        while stack:\n",
    "            vertex = stack.pop()\n",
    "            if vertex not in visited:\n",
    "                visited.add(vertex)\n",
    "                yield vertex\n",
    "                stack.extend(self.graph[vertex] - visited)\n",
    "\n",
    "                \n",
    "    def bfs_traversal(self, start):\n",
    "        return 'Bredth first traversal starting from {}: {}'.format(start,\n",
    "                list(self._bfs_traversal(start)).__str__())\n",
    "    \n",
    "    def _bfs_traversal(self, start):\n",
    "        visited, queue = set(), [start]\n",
    "        while queue:\n",
    "            vertex = queue.pop(0)\n",
    "            if vertex not in visited:\n",
    "                visited.add(vertex)\n",
    "                yield vertex\n",
    "                queue.extend(self.graph[vertex] - visited)\n",
    "    \n",
    "\n",
    "    def dfs_paths(self, start, goal):\n",
    "        return 'Depth first paths from {} to {}: {}'.format(start, goal,\n",
    "                list(self._dfs_find_all_paths(start, goal)).__str__())\n",
    "\n",
    "    def _dfs_find_all_paths(self, start, goal):\n",
    "        stack = [ (start, [start]) ]\n",
    "        while stack:\n",
    "            vertex, path = stack.pop()\n",
    "            visited = set(path)\n",
    "            not_visited = self.graph[vertex] - visited\n",
    "            \n",
    "            for next_vertex in not_visited:\n",
    "                current_path = path + [next_vertex]\n",
    "                if next_vertex == goal:\n",
    "                    yield current_path\n",
    "                else:\n",
    "                    stack.append((next_vertex, current_path))\n",
    "\n",
    "\n",
    "    def bfs_paths(self, start, goal):\n",
    "        return 'Bredth first paths from {} to {}: {}'.format(start, goal,\n",
    "                list(self._bfs_find_all_paths(start, goal)).__str__())\n",
    "\n",
    "    def _bfs_find_all_paths(self, start, goal):\n",
    "        queue = [ (start, [start]) ]\n",
    "        while queue:\n",
    "            vertex, path = queue.pop(0)\n",
    "            visited = set(path)\n",
    "            not_visited = self.graph[vertex] - visited\n",
    "            \n",
    "            for next_vertex in not_visited:\n",
    "                current_path = path + [next_vertex]\n",
    "                if next_vertex == goal:\n",
    "                    yield current_path\n",
    "                else:\n",
    "                    queue.append((next_vertex, current_path))\n",
    "\n",
    "    def shortest_path(self, start, goal):\n",
    "        try:\n",
    "            return 'Shortest paths from {} to {}: {}'.format(start, goal,\n",
    "                    next(self._bfs_find_all_paths(start, goal)).__str__())\n",
    "        except StopIteration as exec:\n",
    "            return None\n"
   ]
  },
  {
   "cell_type": "code",
   "execution_count": 54,
   "metadata": {},
   "outputs": [],
   "source": [
    "from_ = ['A', 'A', 'B', 'B', 'B', 'C', 'C', 'D', 'E', 'E', 'F', 'F']\n",
    "to = ['B', 'C', 'A', 'D', 'E', 'A', 'F', 'B', 'B', 'F', 'C', 'E']\n",
    "edge_list = list(zip(from_, to))\n",
    "\n",
    "graph = Graph()\n",
    "graph.add_edge_list(edge_list)"
   ]
  },
  {
   "cell_type": "code",
   "execution_count": 57,
   "metadata": {},
   "outputs": [
    {
     "data": {
      "text/plain": [
       "(\"Depth first traversal starting from A: ['A', 'C', 'F', 'E', 'B', 'D']\",\n",
       " \"Bredth first traversal starting from A: ['A', 'B', 'C', 'E', 'D', 'F']\",\n",
       " \"Depth first paths from A to E: [['A', 'C', 'F', 'E'], ['A', 'B', 'E']]\",\n",
       " \"Bredth first paths from A to E: [['A', 'B', 'E'], ['A', 'C', 'F', 'E']]\")"
      ]
     },
     "execution_count": 57,
     "metadata": {},
     "output_type": "execute_result"
    }
   ],
   "source": [
    "graph.dfs_traversal('A'), graph.bfs_traversal('A'), graph.dfs_paths('A', 'E'), graph.bfs_paths('A', 'E')"
   ]
  }
 ],
 "metadata": {
  "kernelspec": {
   "display_name": "Python [conda env:root] *",
   "language": "python",
   "name": "conda-root-py"
  },
  "language_info": {
   "codemirror_mode": {
    "name": "ipython",
    "version": 3
   },
   "file_extension": ".py",
   "mimetype": "text/x-python",
   "name": "python",
   "nbconvert_exporter": "python",
   "pygments_lexer": "ipython3",
   "version": "3.7.3"
  }
 },
 "nbformat": 4,
 "nbformat_minor": 4
}
