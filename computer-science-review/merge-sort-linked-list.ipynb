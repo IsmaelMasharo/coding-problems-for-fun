{
 "cells": [
  {
   "cell_type": "markdown",
   "metadata": {},
   "source": [
    "## **Linked List**\n",
    "Write a function that counts the number of times a given int occurs in a Linked List\n",
    "Given a singly linked list and a key, count number of occurrences of given key in linked list. For example, if given linked list is 1->2->1->2->1->3->1 and given key is 1, then output should be 4."
   ]
  },
  {
   "cell_type": "code",
   "execution_count": 69,
   "metadata": {},
   "outputs": [],
   "source": [
    "class Node:\n",
    "    def __init__(self, value=None, next_=None):\n",
    "        self.value = value\n",
    "        self.next = next_\n",
    "        \n",
    "class LinkedList:\n",
    "    \n",
    "    def __init__(self, head=None):\n",
    "        self.head = head\n",
    "\n",
    "    def print_values(self):\n",
    "        if not self.head: return 0\n",
    "        current_node = self.head\n",
    "        values = ''\n",
    "        while current_node:\n",
    "            values += ('' if current_node==self.head else '->') + str(current_node.value)\n",
    "            current_node = current_node.next\n",
    "        return values\n",
    "\n",
    "    def key_count(self, key):\n",
    "\n",
    "        if not self.head: return 0\n",
    "        count = 0\n",
    "        current_node = self.head\n",
    "        while current_node:\n",
    "            if current_node.value == key:\n",
    "                count += 1\n",
    "\n",
    "            current_node = current_node.next\n",
    "\n",
    "        return count\n",
    "\n",
    "    def push(self, value):\n",
    "        new_node = Node(value)\n",
    "        new_node.next = self.head\n",
    "        self.head = new_node\n"
   ]
  },
  {
   "cell_type": "code",
   "execution_count": 76,
   "metadata": {},
   "outputs": [],
   "source": [
    "linked_list = LinkedList(Node(5))\n",
    "linked_list.head.next = Node(1, Node(2, Node(2, Node(1))))\n",
    "linked_list.push(3)\n",
    "assert linked_list.print_values() == '3->5->1->2->2->1'\n",
    "assert linked_list.key_count(1) == 2"
   ]
  },
  {
   "cell_type": "code",
   "execution_count": 79,
   "metadata": {},
   "outputs": [],
   "source": [
    "def divide_in_half(head):\n",
    "    fast = head\n",
    "    slow = head\n",
    "    \n",
    "    if fast: fast = fast.next\n",
    "    while fast:\n",
    "        fast = fast.next\n",
    "        if fast:\n",
    "            fast = fast.next\n",
    "            slow = slow.next\n",
    "    \n",
    "    mid = slow.next\n",
    "    slow.next = None\n",
    "    return head, mid\n",
    "\n",
    "def merge(left, right):\n",
    "    \n",
    "    if left is None: return right\n",
    "    if right is None: return left\n",
    "    \n",
    "    sorted_list = None\n",
    "    temp = None\n",
    "    \n",
    "    while left.next and right.next:\n",
    "        if left.value <= right.value:\n",
    "            sorted_list = left\n",
    "            sorted_list.next = temp\n",
    "            temp.next = left.next\n",
    "            left = left.next\n",
    "        else:\n",
    "            sorted_list = right\n",
    "            sorted_list = sorted_list.next\n",
    "            right = right.next\n",
    "    \n",
    "    if left and left.next:\n",
    "        sorted_list.next = left\n",
    "    if right and right.next:\n",
    "        sorted_list.next = right\n",
    "    \n",
    "    return sorted_list\n",
    "\n",
    "def mergesort(head):\n",
    "\n",
    "    if head == None or head.next == None: return head\n",
    "\n",
    "    head, mid = divide_in_half(head)\n",
    "\n",
    "    head = mergesort(head)\n",
    "    mid = mergesort(mid)\n",
    "\n",
    "    return merge(head, mid)\n"
   ]
  },
  {
   "cell_type": "code",
   "execution_count": 80,
   "metadata": {},
   "outputs": [
    {
     "data": {
      "text/plain": [
       "'None'"
      ]
     },
     "execution_count": 80,
     "metadata": {},
     "output_type": "execute_result"
    }
   ],
   "source": [
    "linked_list.head = mergesort(linked_list.head)\n",
    "linked_list.print_values()"
   ]
  },
  {
   "cell_type": "code",
   "execution_count": 10,
   "metadata": {},
   "outputs": [],
   "source": [
    "# A RECURSIVE WAY TO MERGE LINKED LISTS\n",
    "def mergeLists(l1, l2):\n",
    "    temp = None\n",
    "    if l1 is None:\n",
    "        return l2\n",
    "    if l2 is None:\n",
    "        return l1\n",
    "    if l1.data <= l2.data:\n",
    "        temp = l1\n",
    "        temp.next = mergeLists(l1.next, l2)\n",
    "    else:\n",
    "        temp = l2\n",
    "        temp.next = mergeLists(l1, l2.next)\n",
    "    return temp\n",
    "\n",
    "# AN ITERATIVE WAY TO MERGE LINKED LIST\n",
    "def _merge(p, q):\n",
    "    \n",
    "    # TREMENDO HACK: s SIGUE COMPARTIENDO EL MISMO ESPACIO DE MEMORIA QUE r\n",
    "    # POR LO TANTO SIGUE SIENDO EL head MIENTRAS QUE LOS NEXTS SE ACTUALIZAN CON r\n",
    "\n",
    "    r, s = [Node()] * 2\n",
    "    print('---------start--------')\n",
    "    print('r id', id(r))\n",
    "    print('s id', id(s))\n",
    "    print(r is s)\n",
    "    while p or q:\n",
    "        if not q or p and p.data < q.data:\n",
    "            r.next = p\n",
    "            # AQUI NO SE CAMBIA EL VALOR DE r, SINO QUE SE CREA OTRO OBJECTO Y SE \n",
    "            # CAMBIA LA DIRECCION DE MEMORIA A LA QUE APUNTA r\n",
    "            # POR LO TANTO LA REFERENCIA DE s NO CAMBIA DE DIRECCION DE MEMORIA\n",
    "            r, p = r.next, p.next\n",
    "        else:\n",
    "            r.next = q\n",
    "            r, q = r.next, q.next\n",
    "\n",
    "    print('---------end--------')\n",
    "    print('r id', id(r))\n",
    "    print('s id', id(s))\n",
    "    print(r is s)\n",
    "    return s.next\n",
    "\n",
    "def mergesort_recursive(head):\n",
    "    # list is sorted\n",
    "    if not (head and head.next):\n",
    "        return head\n",
    "    # make equal split\n",
    "    p, q, r = head, head.next, None\n",
    "    while q:\n",
    "        p, q, r = p.next, q.next and q.next.next, p\n",
    "    r.next = None\n",
    "    # sort recursively\n",
    "    p = mergesort_recursive(p)\n",
    "    q = mergesort_recursive(head)\n",
    "    # merge\n",
    "    return _merge(p, q)\n"
   ]
  },
  {
   "cell_type": "code",
   "execution_count": 119,
   "metadata": {},
   "outputs": [
    {
     "name": "stdout",
     "output_type": "stream",
     "text": [
      "[<object object at 0x7fd57ceab0c0>, <object object at 0x7fd57ceab0c0>]\n",
      "<object object at 0x7fd57ceab160> <object object at 0x7fd57ceab0c0>\n",
      "<object object at 0x7fd57ceab160> <object object at 0x7fd57ceab0c0>\n"
     ]
    }
   ],
   "source": [
    "print([object()]*2)\n",
    "print(object(), object())\n",
    "print(object(), object())"
   ]
  },
  {
   "cell_type": "code",
   "execution_count": 19,
   "metadata": {},
   "outputs": [
    {
     "name": "stdout",
     "output_type": "stream",
     "text": [
      "---------start--------\n",
      "r id 140042781863664\n",
      "s id 140042781863664\n",
      "True\n",
      "---------end--------\n",
      "r id 140042781863832\n",
      "s id 140042781863664\n",
      "False\n",
      "---------start--------\n",
      "r id 140042781863664\n",
      "s id 140042781863664\n",
      "True\n",
      "---------end--------\n",
      "r id 140042781863832\n",
      "s id 140042781863664\n",
      "False\n"
     ]
    }
   ],
   "source": [
    "list1 = LinkedList()\n",
    "list1.append(20)\n",
    "list1.append(10)\n",
    "list1.append(50)\n",
    "list1.head = mergesort_recursive(list1.head)   "
   ]
  }
 ],
 "metadata": {
  "kernelspec": {
   "display_name": "Python 3",
   "language": "python",
   "name": "python3"
  },
  "language_info": {
   "codemirror_mode": {
    "name": "ipython",
    "version": 3
   },
   "file_extension": ".py",
   "mimetype": "text/x-python",
   "name": "python",
   "nbconvert_exporter": "python",
   "pygments_lexer": "ipython3",
   "version": "3.6.8"
  }
 },
 "nbformat": 4,
 "nbformat_minor": 4
}
