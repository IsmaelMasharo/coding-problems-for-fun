{
 "cells": [
  {
   "cell_type": "markdown",
   "metadata": {},
   "source": [
    "### **Daily Coding Problem: Problem #28 [Medium] - Palantir**"
   ]
  },
  {
   "cell_type": "markdown",
   "metadata": {},
   "source": [
    "```\n",
    "Write an algorithm to justify text. Given a sequence of words and an integer line length k, return a list of strings which represents each line, fully justified.\n",
    "\n",
    "More specifically, you should have as many words as possible in each line. There should be at least one space between each word. Pad extra spaces when necessary so that each line has exactly length k. Spaces should be distributed as equally as possible, with the extra spaces, if any, distributed starting from the left.\n",
    "\n",
    "If you can only fit one word on a line, then you should pad the right-hand side with spaces.\n",
    "\n",
    "Each word is guaranteed not to be longer than k.\n",
    "\n",
    "For example, given the list of words [\"the\", \"quick\", \"brown\", \"fox\", \"jumps\", \"over\", \"the\", \"lazy\", \"dog\"] and k = 16, you should return the following:\n",
    "```\n",
    "```python\n",
    "[\"the  quick brown\", # 1 extra space on the left\n",
    "\"fox  jumps  over\", # 2 extra spaces distributed evenly\n",
    "\"the   lazy   dog\"] # 4 extra spaces distributed evenly\n",
    "```"
   ]
  },
  {
   "cell_type": "markdown",
   "metadata": {},
   "source": [
    "### Dinamic Programming Steps###\n",
    "0. **Greedy approach:**\n",
    "    * Maximize the current line. \n",
    "    * Problem: It may not maximize the overall lines.\n",
    "\n",
    "\n",
    "1. **Subproblems Definition:**\n",
    "    * **Task:** Trying to fit as many words as possible in each line (== minimize the number of blank spaces).\n",
    "    * **Question:** For current word i were should I start the next line? (in which of the j remaining words?).\n",
    "    * **# Subproblems:** for every item I'll ask the previous question, so **n subproblems (n=#words)**\n",
    "\n",
    "\n",
    "2. **Guess and define the Number of choices:**\n",
    "    * **Guess:** Refers to answer the question above. \n",
    "    * **# guesses (choices):** For current word i I have n - i choices to start the new line (remaining words). **Worst Case: n**\n",
    "\n",
    "\n",
    "3. **Recurrence Relationship**:\n",
    "    * **Approach**:\n",
    "      \n",
    "      In order to fit the maximum amount of words we are going to work with its complementary. Minimizing blank spaces.  \n",
    "      Punishing badness, aka, unnecesary white spaces per line.  \n",
    "      Given that the total sum of white spaces per configuration could be the same, we could take the sum of the square roots of white spaces per line. In case of latex, the use the sum of cubic roots.\n",
    "    * **Model:** \n",
    "      \n",
    "      Cost of starting line with at word **i** = Cost of starting next line at word **j** + badness(**i to j**).\n",
    "\n",
    "    ```python\n",
    "    # k = line lenght\n",
    "    # words = array of words\n",
    "    # w = total length of words in a line counting valid white spaces\n",
    "    # DP[i] = Cost of starting line with at word i\n",
    "    w = lambda i,j: sum(len(words[i])) for i in range(i, len(words)+j)\n",
    "    badness = lambda i,j: pow(k - w(i,j), 3) if k - w(i,j) >= 0 else inf\n",
    "    DP[i] = min(DP[j] + badness(i,j) for j in range(i, len(words) + j) if j fits in line)\n",
    "    ```\n",
    "<br/>\n",
    "4. **Topological Order**:\n",
    "    * Depends on the subproblem relationship order.  \n",
    "      **Forward (ascending):** Current answer depends from before answers. i -> j -> ...  \n",
    "      **Backward (descending):** Current answer depends from following answers. j -> i -> ...  \n",
    "      In this case we have a forward relationship. The current line badness (number of unnecesary white spaces) depends on which word will start the next line."
   ]
  },
  {
   "cell_type": "code",
   "execution_count": 68,
   "metadata": {},
   "outputs": [],
   "source": [
    "from IPython.core.debugger import set_trace"
   ]
  },
  {
   "cell_type": "code",
   "execution_count": 75,
   "metadata": {},
   "outputs": [],
   "source": [
    "# calculating overall cost\n",
    "\n",
    "def justify_text_helper(initial_line_len, starting_word_index, words, page_width):\n",
    "    \n",
    "    # base case\n",
    "    if starting_word_index >= len(words): return 0\n",
    "    \n",
    "    # divide\n",
    "    word_fits = True\n",
    "    words_traversed = False\n",
    "    words_in_line_guesses = []\n",
    "\n",
    "    line_len = len(words[starting_word_index]) + initial_line_len\n",
    "    next_starting_word_index = starting_word_index + 1\n",
    "    \n",
    "#     set_trace()\n",
    "    \n",
    "    while word_fits and not words_traversed:\n",
    "        next_word_starting_cost = justify_text_helper(line_len, next_starting_word_index, words, page_width)\n",
    "        # fix me: line_len wrong value\n",
    "        current_cost = pow(page_width - line_len, 3)\n",
    "        words_in_line_guesses.append(next_word_starting_cost + current_cost)\n",
    "        next_starting_word_index += 1\n",
    "        if next_starting_word_index < len(words):\n",
    "            line_len += len(words[next_starting_word_index]) + 1\n",
    "            if line_len > page_width:\n",
    "                word_fits = False\n",
    "        else:\n",
    "            words_traversed = True\n",
    "\n",
    "    return min(words_in_line_guesses)\n",
    "\n",
    "def justify_line_words(words, page_width):\n",
    "    starting_word_index = 0\n",
    "    initial_line_len = 0\n",
    "    return justify_text_helper(initial_line_len, starting_word_index, words, page_width)\n",
    "   "
   ]
  },
  {
   "cell_type": "code",
   "execution_count": 76,
   "metadata": {},
   "outputs": [
    {
     "data": {
      "text/plain": [
       "1547"
      ]
     },
     "execution_count": 76,
     "metadata": {},
     "output_type": "execute_result"
    }
   ],
   "source": [
    "justify_line_words(['hola', 'mundo'], 15)"
   ]
  },
  {
   "cell_type": "code",
   "execution_count": null,
   "metadata": {},
   "outputs": [],
   "source": [
    "# WIP: retriving lest cost indices \n",
    "\n",
    "def justify_text_helper(starting_word_index, words, page_width):\n",
    "    \n",
    "    # base case\n",
    "    if starting_word_index >= len(words):\n",
    "        # (index, cost)\n",
    "        return [starting_word_index], 0\n",
    "    \n",
    "    # divide\n",
    "    word_fits = True\n",
    "    words_traversed = False\n",
    "    words_in_line_guesses = []\n",
    "    line_len = len(words[starting_word_index])\n",
    "    next_starting_word_index = starting_word_index + 1\n",
    "    \n",
    "    # conquer\n",
    "    words_index_least_cost = []\n",
    "    words_index_cost_guesses = []\n",
    "\n",
    "    while word_fits and not words_traversed:\n",
    "        index_cost, next_word_starting_cost = justify_text_helper(next_starting_word_index, words, page_width)\n",
    "        print('index_cost', index_cost)\n",
    "        words_index_cost_guesses.extend(index_cost)\n",
    "        \n",
    "        current_cost = pow(page_width - line_len, 3)\n",
    "        words_in_line_guesses.append(next_word_starting_cost + current_cost)\n",
    "        next_starting_word_index += 1\n",
    "        if next_starting_word_index < len(words):\n",
    "            line_len += len(words[next_starting_word_index]) + 1\n",
    "            if line_len > page_width:\n",
    "                word_fits = False\n",
    "        else:\n",
    "            words_traversed = True\n",
    "\n",
    "    minimum_cost = min(words_in_line_guesses)\n",
    "    minimum_indexes = [words_in_line_guesses.index(minimum_cost)]\n",
    "    print('minimum_cost', minimum_cost)\n",
    "    print('minimum_indexes', minimum_indexes)\n",
    "    return minimum_indexes, minimum_cost\n",
    "\n",
    "def justify_line_words(words, page_width):\n",
    "    starting_word_index = 0\n",
    "    justify_text_helper(starting_word_index, words, page_width)\n",
    "   "
   ]
  }
 ],
 "metadata": {
  "kernelspec": {
   "display_name": "Python 3",
   "language": "python",
   "name": "python3"
  },
  "language_info": {
   "codemirror_mode": {
    "name": "ipython",
    "version": 3
   },
   "file_extension": ".py",
   "mimetype": "text/x-python",
   "name": "python",
   "nbconvert_exporter": "python",
   "pygments_lexer": "ipython3",
   "version": "3.7.3"
  }
 },
 "nbformat": 4,
 "nbformat_minor": 4
}
