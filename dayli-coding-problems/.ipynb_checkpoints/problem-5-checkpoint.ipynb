{
 "cells": [
  {
   "cell_type": "markdown",
   "metadata": {},
   "source": [
    "### **Daily Coding Problem: Problem #5 [Medium]** - **Jane Street**\n",
    "```\n",
    "cons(a, b) constructs a pair, and car(pair) and cdr(pair) returns the first and last element of that pair. For example, car(cons(3, 4)) returns 3, and cdr(cons(3, 4)) returns 4.\n",
    "Given this implementation of cons:\n",
    "```\n",
    "```python\n",
    "def cons(a, b):\n",
    "    def pair(f):\n",
    "        return f(a, b)\n",
    "    return pair\n",
    "```\n",
    "```\n",
    "Implement car and cdr.\n",
    "```"
   ]
  },
  {
   "cell_type": "code",
   "execution_count": 11,
   "metadata": {},
   "outputs": [],
   "source": [
    "def cons(a, b):\n",
    "    def pair(f):\n",
    "        return f(a, b)\n",
    "    return pair\n",
    "\n",
    "def car(cons_output):\n",
    "    def return_args(*args):\n",
    "        return args\n",
    "    args = cons_output(return_args)\n",
    "    return args[0]\n",
    "\n",
    "def cdr(cons_output):\n",
    "    def return_args(*args):\n",
    "        return args\n",
    "    args = cons_output(return_args)\n",
    "    return args[1]\n",
    "\n",
    "assert car(cons(1,2)) == 1\n",
    "assert cdr(cons(1,2)) == 2"
   ]
  }
 ],
 "metadata": {
  "kernelspec": {
   "display_name": "Python 3",
   "language": "python",
   "name": "python3"
  },
  "language_info": {
   "codemirror_mode": {
    "name": "ipython",
    "version": 3
   },
   "file_extension": ".py",
   "mimetype": "text/x-python",
   "name": "python",
   "nbconvert_exporter": "python",
   "pygments_lexer": "ipython3",
   "version": "3.6.8"
  }
 },
 "nbformat": 4,
 "nbformat_minor": 4
}
