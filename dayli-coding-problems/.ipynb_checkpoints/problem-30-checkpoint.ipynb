{
 "cells": [
  {
   "cell_type": "markdown",
   "metadata": {},
   "source": [
    "### **Daily Coding Problem: Problem #30 [Medium]** - **Facebook**\n",
    "```\n",
    "You are given an array of non-negative integers that represents a two-dimensional elevation map where each element is unit-width wall and the integer is the height. Suppose it will rain and all spots between two walls get filled up.\n",
    "Compute how many units of water remain trapped on the map in O(N) time and O(1) space.\n",
    "For example, given the input [2, 1, 2], we can hold 1 unit of water in the middle.\n",
    "Given the input [3, 0, 1, 3, 0, 5], we can hold 3 units in the first index, 2 in the second, and 3 in the fourth index (we cannot hold 5 since it would run off to the left), so we can trap 8 units of water.\n",
    "```"
   ]
  },
  {
   "cell_type": "code",
   "execution_count": 7,
   "metadata": {},
   "outputs": [],
   "source": [
    "def units_of_water(array):\n",
    "    '''\n",
    "    array: elevation array\n",
    "    stack: list of lists of elevation, base\n",
    "    units: units of water acumulated\n",
    "    '''\n",
    "    \n",
    "    units = 0\n",
    "    stack = []\n",
    "    top_index = -1\n",
    "    elevation_index = 0\n",
    "    base_index = 1\n",
    "    \n",
    "    for i in range(len(array)):\n",
    "        current_elevation = array[i]\n",
    "        current_base = 1\n",
    "        while stack and stack[top_index][elevation_index] <= current_elevation:\n",
    "            previous_elevation, previous_base = stack.pop()\n",
    "            \n",
    "            if stack:\n",
    "                remain_elevation = stack[top_index][elevation_index]\n",
    "                min_elevation = min(remain_elevation, current_elevation)\n",
    "                units += (min_elevation - previous_elevation)*previous_base\n",
    "                \n",
    "                if min_elevation == current_elevation:\n",
    "                    current_base += previous_base\n",
    "                else:\n",
    "                    stack[top_index][base_index] += previous_base\n",
    "        \n",
    "        stack.append([current_elevation, current_base])\n",
    "\n",
    "    return units\n"
   ]
  },
  {
   "cell_type": "code",
   "execution_count": 11,
   "metadata": {},
   "outputs": [],
   "source": [
    "assert units_of_water([2,1,2]) == 1\n",
    "assert units_of_water([3, 0, 1, 3, 0, 5]) == 8\n",
    "assert units_of_water([1,3,6,8,7,2,4,1]) == 2"
   ]
  }
 ],
 "metadata": {
  "kernelspec": {
   "display_name": "Python 3",
   "language": "python",
   "name": "python3"
  },
  "language_info": {
   "codemirror_mode": {
    "name": "ipython",
    "version": 3
   },
   "file_extension": ".py",
   "mimetype": "text/x-python",
   "name": "python",
   "nbconvert_exporter": "python",
   "pygments_lexer": "ipython3",
   "version": "3.6.8"
  }
 },
 "nbformat": 4,
 "nbformat_minor": 4
}
