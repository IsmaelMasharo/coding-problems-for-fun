{
 "cells": [
  {
   "cell_type": "markdown",
   "metadata": {},
   "source": [
    "### **Daily Coding Problem: Problem #58 [Medium]** - **Amazon**\n",
    "```\n",
    "A sorted array of integers was rotated an unknown number of times.\n",
    "\n",
    "Given such an array, find the index of the element in the array in faster than linear time. If the element doesn't exist in the array, return null.\n",
    "\n",
    "For example, given the array [13, 18, 25, 2, 8, 10] and the element 8, return 4 (the index of 8 in the array).\n",
    "\n",
    "You can assume all the integers in the array are unique.\n",
    "```"
   ]
  },
  {
   "cell_type": "code",
   "execution_count": 34,
   "metadata": {},
   "outputs": [],
   "source": [
    "def bst_modified(rotated_sorted_array, start, end, element):\n",
    "\n",
    "    if start > end: return None\n",
    "\n",
    "    mid = (end+start)//2\n",
    "\n",
    "    if rotated_sorted_array[mid] == element:\n",
    "        return mid\n",
    "\n",
    "    if rotated_sorted_array[start] <= rotated_sorted_array[mid]:\n",
    "        if rotated_sorted_array[start] <= element <= rotated_sorted_array[mid]: \n",
    "            return bst_modified(rotated_sorted_array, start, mid - 1, element)\n",
    "        else:\n",
    "            return bst_modified(rotated_sorted_array, mid + 1, end, element)\n",
    "    else:\n",
    "        if rotated_sorted_array[mid] <= element <= rotated_sorted_array[end]: \n",
    "            return bst_modified(rotated_sorted_array, mid + 1, end, element)\n",
    "        else:\n",
    "            return bst_modified(rotated_sorted_array, start, mid - 1, element)\n"
   ]
  },
  {
   "cell_type": "code",
   "execution_count": 33,
   "metadata": {},
   "outputs": [
    {
     "name": "stdout",
     "output_type": "stream",
     "text": [
      "4\n"
     ]
    }
   ],
   "source": [
    "print(bst_modified([13, 18, 25, 2, 8, 10], 0, len([13, 18, 25, 2, 8, 10]) -1, 8))"
   ]
  }
 ],
 "metadata": {
  "kernelspec": {
   "display_name": "Python 3",
   "language": "python",
   "name": "python3"
  },
  "language_info": {
   "codemirror_mode": {
    "name": "ipython",
    "version": 3
   },
   "file_extension": ".py",
   "mimetype": "text/x-python",
   "name": "python",
   "nbconvert_exporter": "python",
   "pygments_lexer": "ipython3",
   "version": "3.6.8"
  }
 },
 "nbformat": 4,
 "nbformat_minor": 4
}
