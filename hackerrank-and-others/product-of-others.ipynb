{
 "cells": [
  {
   "cell_type": "markdown",
   "metadata": {},
   "source": [
    "### Problem 2\n",
    "- Given an array of integers, return a new array such that each element at index i of the new array is the product of all the numbers in the original array except the one at i.\n",
    "- For example, if our input was [1, 2, 3, 4, 5], the expected output would be [120, 60, 40, 30, 24]. If our input was [3, 2, 1], the expected output would be [2, 3, 6].\n",
    "- Follow-up: what if you can't use division?"
   ]
  },
  {
   "cell_type": "code",
   "execution_count": 5,
   "metadata": {},
   "outputs": [],
   "source": [
    "def product_without_division(array):\n",
    "\n",
    "    size = len(array)\n",
    "    result = [1]*size\n",
    "\n",
    "    # calculating the left side multiplication acumulated\n",
    "    left_acumulator = 1\n",
    "    for i in range(1, size):\n",
    "        result[i] = left_acumulator*array[i-1]\n",
    "        left_acumulator *= array[i-1]\n",
    "    print(result)\n",
    "\n",
    "    # cright: acumulates the multiplication\n",
    "    # at each index movement\n",
    "    right_acumulator = 1\n",
    "    for i in range(size - 1, -1, -1):\n",
    "        result[i] = result[i]*right_acumulator\n",
    "        right_acumulator *= array[i]\n",
    "\n",
    "    print(result)\n",
    "    return result\n"
   ]
  },
  {
   "cell_type": "code",
   "execution_count": 6,
   "metadata": {},
   "outputs": [
    {
     "name": "stdout",
     "output_type": "stream",
     "text": [
      "[1, 1, 2, 6, 24]\n",
      "[120, 60, 40, 30, 24]\n"
     ]
    }
   ],
   "source": [
    "assert product_without_division( [1, 2, 3, 4, 5] ) == [120, 60, 40, 30, 24]"
   ]
  }
 ],
 "metadata": {
  "kernelspec": {
   "display_name": "Python 3",
   "language": "python",
   "name": "python3"
  },
  "language_info": {
   "codemirror_mode": {
    "name": "ipython",
    "version": 3
   },
   "file_extension": ".py",
   "mimetype": "text/x-python",
   "name": "python",
   "nbconvert_exporter": "python",
   "pygments_lexer": "ipython3",
   "version": "3.7.3"
  }
 },
 "nbformat": 4,
 "nbformat_minor": 4
}
