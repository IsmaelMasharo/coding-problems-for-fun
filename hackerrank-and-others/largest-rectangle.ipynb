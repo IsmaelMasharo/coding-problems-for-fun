{
 "cells": [
  {
   "cell_type": "markdown",
   "metadata": {},
   "source": [
    "### Problem 6\n",
    "Largest rectangle"
   ]
  },
  {
   "cell_type": "code",
   "execution_count": null,
   "metadata": {},
   "outputs": [],
   "source": [
    "def largestRectangle(h):\n",
    "    left_building_heights = h.copy()\n",
    "    left_buildings_current_lenght = len(left_building_heights)\n",
    "    left_buildings_areas = [\n",
    "        min(left_building_heights)*left_buildings_current_lenght\n",
    "    ]\n",
    "    right_buildings_heights = []\n",
    "    right_buildings_current_lenght = 0\n",
    "    right_buildings_areas = []\n",
    "\n",
    "    while left_building_heights:\n",
    "        \n",
    "        rest_left_building_heights = left_building_heights[:-1]\n",
    "        left_buildings_current_lenght -= 1\n",
    "        left_buildings_areas.append(min(rest_left_building_heights)*left_buildings_current_lenght)\n",
    "        last_building_height = left_building_heights.pop()\n",
    "\n",
    "        right_buildings_heights.append(last_building_height)\n",
    "        right_buildings_current_lenght += 1\n",
    "        right_buildings_areas.append(\n",
    "            min(right_buildings_heights)*right_buildings_current_lenght\n",
    "        )\n",
    "    \n",
    "    last_building_height = left_building_heights.pop()\n",
    "    right_buildings_heights.append(last_building_height)\n",
    "    right_buildings_current_lenght += 1\n",
    "    right_buildings_areas.append(\n",
    "        min(right_buildings_heights)*right_buildings_current_lenght\n",
    "    )\n",
    "    \n",
    "    max_height = max(max(right_buildings_areas), max(left_buildings_areas))\n",
    "    print(max_height)\n",
    "    return max_height"
   ]
  },
  {
   "cell_type": "code",
   "execution_count": null,
   "metadata": {},
   "outputs": [],
   "source": [
    "assert largestRectangle([1,2,3,4,5]) == 9\n",
    "assert largestRectangle([6873, 7005, 1372, 5438, 1323, 9238, 9184, 2396, 4605, 162, 7170, 9421, 4012, 5302, 6277, 2438, 4409, 3391, 4956, 4488, 622, 9365, 5088, 6926, 2691, 6909, 1050, 2824, 3538, 5801, 8468, 411, 9158, 9841, 2201, 481, 5431, 1385, 2877, 36, 1547, 48, 5809, 1911, 1702, 8439, 4349, 6111, 1830, 5657, 6951, 8804, 5022, 8391, 2083, 7713, 5300, 3133, 6890, 5190, 5286, 1710, 1953, 4445, 7903, 4154, 4926, 3335, 5539, 4156, 9723, 3438, 556, 1885, 5349, 2258, 324, 6050, 4722, 8506, 1707, 1673, 7310, 3081, 65, 9393, 7147, 1717, 8878, 389, 6908, 4165, 2099, 5213, 8610, 3, 9368, 3536, 9690, 1259]\n",
    "                       ) == 51060"
   ]
  },
  {
   "cell_type": "code",
   "execution_count": null,
   "metadata": {},
   "outputs": [],
   "source": [
    "def largestRectangle(h):\n",
    "    \n",
    "    # THIS IS UNNECESARY TO SAVE THE AREAS AS THEY TAKE O(n) SPACE\n",
    "    # JUST UPDATING A MAXIMUM_AREA VARIABLE WILL BE ENOUGH: O(1)\n",
    "    areas = set()\n",
    "    heights = []\n",
    "    \n",
    "    # THIS IS A HACK:\n",
    "    h.append(0)\n",
    "\n",
    "    for i in range(len(h)):\n",
    "        height_value = h[i]\n",
    "        \n",
    "        # number of items pop BEHIND the current height\n",
    "        popped_count = 1\n",
    "\n",
    "        while heights and heights[-1][0] >= height_value:\n",
    "            value, count = heights.pop()\n",
    "            popped_count = count + 1\n",
    "            if heights and heights[-1][0] >= height_value:\n",
    "                # number of items pop AHEAD the top element in stack\n",
    "                # total = pop BEHIND (previous calculated) + pop AHEAD (current calculated)\n",
    "                heights[-1][1] += count\n",
    "            areas.add(value*count)\n",
    "\n",
    "        heights.append([height_value, popped_count])\n",
    "#         print(heights)\n",
    "\n",
    "# OTHERWISE I'LL NEED TO CHECK THE LAST ELEMET OF THE INPUT SEPARATELY:\n",
    "#          if i + 1 == len(h):\n",
    "#             while heights:\n",
    "#                 value, count = heights.pop()\n",
    "#                 if heights:\n",
    "#                     heights[-1][1] += count\n",
    "#                 areas.add(value*count)\n",
    "\n",
    "    # KEEPING INPUT AS ITS ORIGINAL VERSION\n",
    "    h.pop()\n",
    "\n",
    "    return max(areas)\n"
   ]
  },
  {
   "cell_type": "code",
   "execution_count": null,
   "metadata": {},
   "outputs": [],
   "source": [
    "assert largestRectangle([7,2,3]) == 7\n",
    "assert largestRectangle([1,2,3,4,5]) == 9\n",
    "assert largestRectangle([5,4,3]) == 9\n",
    "assert largestRectangle([11,11,10,10,10]) == 50\n",
    "assert largestRectangle([8979, 4570, 6436, 5083, 7780, 3269, 5400, 7579, 2324, 2116]) == 26152\n",
    "assert largestRectangle([6873, 7005, 1372, 5438, 1323, 9238, 9184, 2396, 4605, 162, 7170, 9421, 4012, 5302, 6277, 2438, 4409, 3391, 4956, 4488, 622, 9365, 5088, 6926, 2691, 6909, 1050, 2824, 3538, 5801, 8468, 411, 9158, 9841, 2201, 481, 5431, 1385, 2877, 36, 1547, 48, 5809, 1911, 1702, 8439, 4349, 6111, 1830, 5657, 6951, 8804, 5022, 8391, 2083, 7713, 5300, 3133, 6890, 5190, 5286, 1710, 1953, 4445, 7903, 4154, 4926, 3335, 5539, 4156, 9723, 3438, 556, 1885, 5349, 2258, 324, 6050, 4722, 8506, 1707, 1673, 7310, 3081, 65, 9393, 7147, 1717, 8878, 389, 6908, 4165, 2099, 5213, 8610, 3, 9368, 3536, 9690, 1259]\n",
    "                       ) == 51060"
   ]
  },
  {
   "cell_type": "markdown",
   "metadata": {},
   "source": [
    "Look at the picture below which pretty much shows the cases you need to consider.\n",
    "\n",
    "<img src=\"../images/heights.png\">\n",
    "\n",
    "Basically, we're going to start with building 1, then compute all of the areas of each rectangle and choose the maximum from that. Notice that when we start with building 1, we have no idea when the end of it's rectangle will be (represented by a dashed arrow going to the right). The next thing you should notice is that if the next building goes up (higher than the previous), all active areas will remain active (i.e. we still haven't found the end of the area).\n",
    "\n",
    "When building 5 is added, it definitely ends the previous building's area (or whatever area it was part of) and, in this case, that's it. Also notice that we need to extend building 5 back through building 4. How do you know to stop at building 4? Easy, the next active area (coming from building 3) has a height lower than building 5's, so that area is still active (in other words it will go through building 5).\n",
    "\n",
    "Hopefully you're starting to see how a stack can be used here: when the next building is taller than the previous, add it to the stack (to be processsed later). When the next building is shorter: pop off stack until you find a starting area with a smaller height (than the current building) or you empty the stack (meaning it goes all the way back through the first building). Now push this building's height along with it's left position onto the stack.\n",
    "\n",
    "When you pop off the stack, this means you've found the right side of an area, so compute its area and see if it's the maximum. Also when you find the \"left wall\" for the current building (meaning you found a smaller building in the stack or went all the way back to the first building), you need to remember that position in addition to the height of the current building so that when the current building is eventually popped off of the stack, you can properly compute it's area. Notice how building 6 extends both backwards and forwards, such that when I get to building 8, I have to know that building 6's height extended all the way back through building 2."
   ]
  },
  {
   "cell_type": "markdown",
   "metadata": {},
   "source": [
    "- Someone else's solution:"
   ]
  },
  {
   "cell_type": "code",
   "execution_count": null,
   "metadata": {},
   "outputs": [],
   "source": [
    "def largestRectangle(h):\n",
    "    s = []\n",
    "    ans = len(h)\n",
    "    h.append(0)\n",
    "    \n",
    "    for i in range(len(h)):\n",
    "        left_index = i\n",
    "        while len(s) > 0 and s[-1][0] >= h[i]:\n",
    "            last = s.pop()\n",
    "            left_index = last[1]\n",
    "            # aqui evalua el elemento a agregar\n",
    "            ans = max(ans, h[i] * (i + 1 - last[1]))\n",
    "            # aqui evalua la cola de la derecha de los anteriores\n",
    "            ans = max(ans, last[0] * (i - last[1]))\n",
    "        \n",
    "        # aqui guarda toda la cola de la izquierda\n",
    "        s.append((h[i], left_index))\n",
    "#         print(s)\n",
    "    h.pop()\n",
    "    \n",
    "    return ans"
   ]
  },
  {
   "cell_type": "code",
   "execution_count": null,
   "metadata": {},
   "outputs": [],
   "source": [
    "assert largestRectangle([7,2,3]) == 7\n",
    "assert largestRectangle([1,2,3,4,5]) == 9\n",
    "assert largestRectangle([5,4,3]) == 9\n",
    "assert largestRectangle([11,11,10,10,10]) == 50\n",
    "assert largestRectangle([8979, 4570, 6436, 5083, 7780, 3269, 5400, 7579, 2324, 2116]) == 26152\n",
    "assert largestRectangle([6873, 7005, 1372, 5438, 1323, 9238, 9184, 2396, 4605, 162, 7170, 9421, 4012, 5302, 6277, 2438, 4409, 3391, 4956, 4488, 622, 9365, 5088, 6926, 2691, 6909, 1050, 2824, 3538, 5801, 8468, 411, 9158, 9841, 2201, 481, 5431, 1385, 2877, 36, 1547, 48, 5809, 1911, 1702, 8439, 4349, 6111, 1830, 5657, 6951, 8804, 5022, 8391, 2083, 7713, 5300, 3133, 6890, 5190, 5286, 1710, 1953, 4445, 7903, 4154, 4926, 3335, 5539, 4156, 9723, 3438, 556, 1885, 5349, 2258, 324, 6050, 4722, 8506, 1707, 1673, 7310, 3081, 65, 9393, 7147, 1717, 8878, 389, 6908, 4165, 2099, 5213, 8610, 3, 9368, 3536, 9690, 1259]\n",
    "                       ) == 51060"
   ]
  }
 ],
 "metadata": {
  "kernelspec": {
   "display_name": "Python 3",
   "language": "python",
   "name": "python3"
  },
  "language_info": {
   "codemirror_mode": {
    "name": "ipython",
    "version": 3
   },
   "file_extension": ".py",
   "mimetype": "text/x-python",
   "name": "python",
   "nbconvert_exporter": "python",
   "pygments_lexer": "ipython3",
   "version": "3.6.8"
  }
 },
 "nbformat": 4,
 "nbformat_minor": 4
}
