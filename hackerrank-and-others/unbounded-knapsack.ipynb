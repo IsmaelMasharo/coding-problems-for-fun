{
 "cells": [
  {
   "cell_type": "markdown",
   "metadata": {},
   "source": [
    "### **Problem 7**\n",
    "source: [the cake thief - interview cake](https://www.interviewcake.com/question/python3/cake-thief?)"
   ]
  },
  {
   "cell_type": "code",
   "execution_count": 88,
   "metadata": {},
   "outputs": [],
   "source": [
    "def max_duffel_bag_value_WRONG_RECURSIVE_APPROACH(cake_tuples, capacity):\n",
    "\n",
    "    value = 0\n",
    "\n",
    "    for cake_index in range(len(cake_tuples)):\n",
    "\n",
    "        cake_weight, cake_value = cake_tuples[cake_index]\n",
    "\n",
    "# INITIAL APPROACH: CONSIDERING TAKING AND NOT TAKING RESULT: BAD\n",
    "\n",
    "        if capacity < cake_weight: continue\n",
    "        value = cake_value\n",
    "        takin = max_duffel_bag_value(cake_tuples, capacity - cake_weight)\n",
    "\n",
    "# THIS CASE ITS NOT PART OF THE SOLUTION: IF NOT TAKING THE CAKE THEN VALUE WILL BE STILL CERO\n",
    "\n",
    "        not_takin = max_duffel_bag_value(cake_tuples[cake_index+1:], capacity)\n",
    "\n",
    "# ALSO, EVEN IF THE CASE WAS VALID cake_value SHOULD ONLY BE SUMED UP TO THE TOTAL IN THE CASE OF takin\n",
    "\n",
    "        value += max(takin, not_takin)\n",
    "\n",
    "    return value\n",
    "\n",
    "# max_duffel_bag_value_WRONG_RECURSIVE_APPROACH([(7, 160), (3, 90), (2, 15)], 20) == 555 False\n",
    "# max_duffel_bag_value_WRONG_RECURSIVE_APPROACH([(1, 50), (1, 13)], 4) == 200 False"
   ]
  },
  {
   "cell_type": "code",
   "execution_count": 89,
   "metadata": {},
   "outputs": [],
   "source": [
    "def max_duffel_bag_value_recursive_wo_memo(cake_tuples, capacity):\n",
    "    value = 0\n",
    "    for cake_index in range(len(cake_tuples)):\n",
    "        cake_weight, cake_value = cake_tuples[cake_index]\n",
    "        if capacity >= cake_weight:\n",
    "            takin = max_duffel_bag_value(cake_tuples, capacity - cake_weight) + cake_value\n",
    "            value = max(takin, value)\n",
    "    return value"
   ]
  },
  {
   "cell_type": "code",
   "execution_count": 93,
   "metadata": {},
   "outputs": [],
   "source": [
    "def max_duffel_bag_value_recursive_memo_helper(cake_tuples, capacity, memo):\n",
    "    if memo[capacity]: return memo[capacity]\n",
    "    value = 0\n",
    "\n",
    "    for cake_index in range(len(cake_tuples)):\n",
    "        cake_weight, cake_value = cake_tuples[cake_index]\n",
    "        if capacity >= cake_weight:\n",
    "            takin = max_duffel_bag_value_recursive_memo_helper(\n",
    "                cake_tuples, \n",
    "                capacity - cake_weight,\n",
    "                memo\n",
    "            ) + cake_value\n",
    "            value = max(takin, value)\n",
    "\n",
    "    memo[capacity] = value\n",
    "    return memo[capacity]\n",
    "\n",
    "def max_duffel_bag_value(cake_tuples, capacity):\n",
    "    initial_memo = [0]*(capacity+1)\n",
    "    max_value = max_duffel_bag_value_recursive_memo_helper(cake_tuples, capacity, initial_memo)\n",
    "    return max_value"
   ]
  },
  {
   "cell_type": "code",
   "execution_count": 97,
   "metadata": {},
   "outputs": [],
   "source": [
    "assert max_duffel_bag_value([(7, 160), (3, 90), (2, 15)], 20) == 555\n",
    "# final memo\n",
    "# memo = [0, 0, 15, 90, 90, 105, 180, 180, 195, 270, 270, 285, 360, 360, 375, 450, 450, 465, 540, 0, 555]\n",
    "assert max_duffel_bag_value_recursive_wo_memo([(1, 50), (1, 13)], 4) == 200\n",
    "# final memo\n",
    "# memo =[0, 50, 100, 150, 200]"
   ]
  },
  {
   "cell_type": "markdown",
   "metadata": {},
   "source": [
    "#### **Aproach with memoization**\n",
    "- Takes less time."
   ]
  },
  {
   "cell_type": "code",
   "execution_count": 95,
   "metadata": {},
   "outputs": [
    {
     "name": "stdout",
     "output_type": "stream",
     "text": [
      "28 µs ± 4.01 µs per loop (mean ± std. dev. of 7 runs, 10000 loops each)\n"
     ]
    }
   ],
   "source": [
    "%timeit max_duffel_bag_value([(7, 160), (3, 90), (2, 15)], 20)"
   ]
  },
  {
   "cell_type": "markdown",
   "metadata": {},
   "source": [
    "#### **Aproach without memoization**\n",
    "- More time to execute"
   ]
  },
  {
   "cell_type": "code",
   "execution_count": 96,
   "metadata": {},
   "outputs": [
    {
     "name": "stdout",
     "output_type": "stream",
     "text": [
      "60.1 µs ± 142 ns per loop (mean ± std. dev. of 7 runs, 10000 loops each)\n"
     ]
    }
   ],
   "source": [
    "%timeit max_duffel_bag_value_recursive_wo_memo([(7, 160), (3, 90), (2, 15)], 20)"
   ]
  }
 ],
 "metadata": {
  "kernelspec": {
   "display_name": "Python 3",
   "language": "python",
   "name": "python3"
  },
  "language_info": {
   "codemirror_mode": {
    "name": "ipython",
    "version": 3
   },
   "file_extension": ".py",
   "mimetype": "text/x-python",
   "name": "python",
   "nbconvert_exporter": "python",
   "pygments_lexer": "ipython3",
   "version": "3.7.3"
  }
 },
 "nbformat": 4,
 "nbformat_minor": 4
}
