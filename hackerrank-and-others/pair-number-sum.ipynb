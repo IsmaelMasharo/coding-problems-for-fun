{
 "cells": [
  {
   "cell_type": "markdown",
   "metadata": {},
   "source": [
    "### Problem 1\n",
    "Given a list of numbers and a number `k`, return whether a SET of numbers from the list add up to k.\n",
    "For example, given [10, 15, 3, 7] and k of 17, return true since 10 + 7 is 17."
   ]
  },
  {
   "cell_type": "code",
   "execution_count": null,
   "metadata": {},
   "outputs": [],
   "source": [
    "def recursive_helper(array, size, index, k_sum):\n",
    "    if index == 0: return 0\n",
    "    analized_element_index = size - index\n",
    "    analized_element = array[analized_element_index]\n",
    "    if analized_element == k_sum: return 1\n",
    "    return (\n",
    "        recursive_helper(array, size, index - 1, k_sum - analized_element) \n",
    "        or\n",
    "        recursive_helper(array, size, index - 1, k_sum)\n",
    "    )\n",
    "\n",
    "def pair_numbers_sum(array, k):\n",
    "    sum_exits = recursive_helper(array, len(array), len(array), k)\n",
    "    return bool(sum_exits)\n"
   ]
  },
  {
   "cell_type": "markdown",
   "metadata": {},
   "source": [
    "Given a list of numbers and a number `k`, return whether a PAIR of numbers from the list add up to k."
   ]
  },
  {
   "cell_type": "code",
   "execution_count": null,
   "metadata": {},
   "outputs": [],
   "source": [
    "def sum_exists(numbers, target):\n",
    "    numbers_seen = set()\n",
    "    for number in numbers:\n",
    "        if target - number in numbers_seen:\n",
    "            return True\n",
    "        numbers_seen.add(number)\n",
    "    return False\n"
   ]
  },
  {
   "cell_type": "code",
   "execution_count": 3,
   "metadata": {},
   "outputs": [],
   "source": [
    "assert pair_numbers_sum([10, 15, 3, 7], 17) == True\n",
    "assert pair_numbers_sum([], 17) == False\n",
    "assert pair_numbers_sum([1,2,3], 4) == True\n",
    "assert pair_numbers_sum([1,2,7,12,12], 4) == False"
   ]
  },
  {
   "cell_type": "code",
   "execution_count": 4,
   "metadata": {},
   "outputs": [],
   "source": [
    "assert sum_exists([10, 15, 3, 7], 17) == True\n",
    "assert sum_exists([], 17) == False\n",
    "assert sum_exists([1,2,3], 4) == True\n",
    "assert sum_exists([5], 10) == False\n",
    "assert sum_exists([1,2,7,12,12], 4) == False\n"
   ]
  }
 ],
 "metadata": {
  "kernelspec": {
   "display_name": "Python 3",
   "language": "python",
   "name": "python3"
  },
  "language_info": {
   "codemirror_mode": {
    "name": "ipython",
    "version": 3
   },
   "file_extension": ".py",
   "mimetype": "text/x-python",
   "name": "python",
   "nbconvert_exporter": "python",
   "pygments_lexer": "ipython3",
   "version": "3.6.8"
  }
 },
 "nbformat": 4,
 "nbformat_minor": 4
}
