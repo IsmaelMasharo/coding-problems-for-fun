{
 "cells": [
  {
   "cell_type": "markdown",
   "metadata": {},
   "source": [
    "### Problem 5\n",
    "Balanced bracket strings."
   ]
  },
  {
   "cell_type": "code",
   "execution_count": 9,
   "metadata": {},
   "outputs": [],
   "source": [
    "def isBalanced(s):\n",
    "\n",
    "    closing_brackets_hash = {\n",
    "        ')' : '(',\n",
    "        ']' : '[',\n",
    "        '}' : '{'\n",
    "    }\n",
    "\n",
    "    stack = []\n",
    "\n",
    "    for bracket in s:\n",
    "        closing_bracket_found  = closing_brackets_hash.get(bracket, None)\n",
    "        if len(stack) == 0 and closing_bracket_found: return 'NO'\n",
    "        if stack and closing_bracket_found == stack[-1]:\n",
    "            stack.pop()\n",
    "            continue\n",
    "        stack.append(bracket)\n",
    "\n",
    "    if stack: return 'NO'\n",
    "    return 'YES'"
   ]
  },
  {
   "cell_type": "code",
   "execution_count": 10,
   "metadata": {},
   "outputs": [],
   "source": [
    "assert isBalanced('()[{}()]([[][]()[[]]]{()})([]()){[]{}}{{}}{}(){([[{}([]{})]])}') == 'YES'\n",
    "assert isBalanced('{][({(}]][[[{}]][[[())}[)(]([[[)][[))[}[]][()}))](]){}}})}[{]{}{((}]}{{)[{[){{)[]]}))]()]})))[') == 'NO'\n",
    "assert isBalanced('[)](][[([]))[)') == 'NO'\n",
    "assert isBalanced(']}]){[{{){') == 'NO'\n",
    "assert isBalanced('{[(}{)]]){(}}(][{{)]{[(((}{}{)}[({[}[}((}{()}[]})]}]]))((]][[{{}[(}})[){()}}{(}{{({{}[[]})]{((]{[){[') == 'NO'\n",
    "assert isBalanced('()}}[(}])][{]{()([}[}{}[{[]{]](]][[))(()[}(}{[{}[[]([{](]{}{[){()[{[{}}{[{()(()({}([[}[}[{(]})') == 'NO'\n",
    "assert isBalanced('){[])[](){[)}[)]}]]){](]()]({{)(]])(]{(}(}{)}])){[{}((){[({(()[[}](]})]}({)}{)]{{{') == 'NO'\n",
    "assert isBalanced('[(})])}{}}]{({[]]]))]})]') == 'NO'\n",
    "assert isBalanced('[{') == 'NO'\n",
    "assert isBalanced('{}([{()[]{{}}}])({})') == 'YES'\n",
    "assert isBalanced('{({}{[({({})([[]])}({}))({})]})}') == 'YES'\n",
    "assert isBalanced('()[]') == 'YES'\n",
    "assert isBalanced('{)[])}]){){]}[(({[)[{{[((]{()[]}][([(]}{](])()(}{(]}{})[)))[](){({)][}()((') == 'NO'\n",
    "assert isBalanced('[][(([{}])){}]{}[()]{([[{[()]({}[])()()}[{}][]]])}') == 'YES'\n",
    "assert isBalanced('(}]}') == 'NO'\n",
    "assert isBalanced('(([{()}]))[({[{}{}[]]{}})]{((){}{()}){{}}}{}{{[{[][]([])}[()({}())()({[]}{{[[]]([])}})()]]}}') == 'YES'\n",
    "assert isBalanced('[(([){[](}){){]]}{}([](([[)}[)})[(()[]){})}}]][({[}])}{(({}}{{{{])({]]}[[{{(}}][{)([)]}}') == 'NO'\n",
    "assert isBalanced('()()[()([{[()][]{}(){()({[]}[(((){(())}))]()){}}}])]') == 'YES'"
   ]
  }
 ],
 "metadata": {
  "kernelspec": {
   "display_name": "Python 3",
   "language": "python",
   "name": "python3"
  },
  "language_info": {
   "codemirror_mode": {
    "name": "ipython",
    "version": 3
   },
   "file_extension": ".py",
   "mimetype": "text/x-python",
   "name": "python",
   "nbconvert_exporter": "python",
   "pygments_lexer": "ipython3",
   "version": "3.7.3"
  }
 },
 "nbformat": 4,
 "nbformat_minor": 4
}
