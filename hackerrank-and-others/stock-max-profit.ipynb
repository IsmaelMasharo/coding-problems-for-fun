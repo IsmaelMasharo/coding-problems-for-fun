{
 "cells": [
  {
   "cell_type": "markdown",
   "metadata": {},
   "source": [
    "### Problem 4\n",
    "stock_prices = [10, 7, 5, 8, 11, 9]\n",
    "get_max_profit(stock_prices)\n",
    "Returns 6 (buying for $5 and selling for $11)"
   ]
  },
  {
   "cell_type": "code",
   "execution_count": 125,
   "metadata": {},
   "outputs": [],
   "source": [
    "def get_max_profit(stock_prices):\n",
    "\n",
    "    min_price_valid = min_price = stock_prices[0]\n",
    "    max_price_valid = max_price = stock_prices[0]\n",
    "    diference = 0\n",
    "\n",
    "    for price in stock_prices:\n",
    "        \n",
    "        if price > max_price: max_price = price\n",
    "        elif price < min_price: min_price = price\n",
    "        \n",
    "        current_diference = price - min_price_valid\n",
    "        current_max_diference = price - min_price\n",
    "        \n",
    "        if current_diference > diference:\n",
    "            if current_max_diference > current_diference:\n",
    "                min_price_valid = price\n",
    "                diference = current_max_diference\n",
    "            else:\n",
    "                max_price_valid = price\n",
    "                diference = current_diference\n",
    "    \n",
    "    return diference"
   ]
  },
  {
   "cell_type": "code",
   "execution_count": 126,
   "metadata": {},
   "outputs": [],
   "source": [
    "assert get_max_profit([10, 7, 5, 8, 11, 9]) == 6"
   ]
  }
 ],
 "metadata": {
  "kernelspec": {
   "display_name": "Python 3",
   "language": "python",
   "name": "python3"
  },
  "language_info": {
   "codemirror_mode": {
    "name": "ipython",
    "version": 3
   },
   "file_extension": ".py",
   "mimetype": "text/x-python",
   "name": "python",
   "nbconvert_exporter": "python",
   "pygments_lexer": "ipython3",
   "version": "3.7.3"
  }
 },
 "nbformat": 4,
 "nbformat_minor": 4
}
