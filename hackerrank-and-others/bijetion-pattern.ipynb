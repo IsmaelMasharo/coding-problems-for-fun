{
 "cells": [
  {
   "cell_type": "markdown",
   "metadata": {},
   "source": [
    "```\n",
    "Given a pattern and a string strg, find if strg follows the same pattern\n",
    "Here follow means a full match, such that there is a bijection between a letter in pattern and a non-empty word in strg.\n",
    "\n",
    "Example 1:\n",
    "Input: pattern = \"abba\", strg = \"dog cat cat dog\"\n",
    "Output: True  \n",
    "Example 2:\n",
    "Input:pattern = \"abba\", strg = \"dog cat cat fish\"\n",
    "Output: False \n",
    "```"
   ]
  },
  {
   "cell_type": "code",
   "execution_count": 1,
   "metadata": {},
   "outputs": [],
   "source": [
    "def check_for_patter(pattern, string):\n",
    "    \n",
    "    letters = string.split()\n",
    "    chars = list(pattern)\n",
    "\n",
    "    hash = {}\n",
    "    backwards_hash = {}\n",
    "    \n",
    "    for i, char in enumerate(pattern):\n",
    "        \n",
    "        if char in hash:\n",
    "            if not (letters[i] == hash[char]):\n",
    "                return False\n",
    "        else:\n",
    "            hash[char] = letters[i]\n",
    "\n",
    "\n",
    "    for i, letter in enumerate(letters):\n",
    "        \n",
    "        if letter in backwards_hash:\n",
    "            if not (chars[i] == backwards_hash[letter]):\n",
    "                return False\n",
    "        else:\n",
    "            backwards_hash[letter] = chars[i]\n",
    "\n",
    "    return True\n",
    "\n",
    "assert check_for_patter(\"abba\", \"dog cat cat dog\") == True\n",
    "assert check_for_patter(\"abba\", \"dog cat cat fish\") == False\n",
    "assert check_for_patter(\"abbc\", \"dog cat cat dog\") == False\n",
    "assert check_for_patter(\"abba\", \"dog cat dog cat\") == False\n"
   ]
  }
 ],
 "metadata": {
  "kernelspec": {
   "display_name": "Python 3",
   "language": "python",
   "name": "python3"
  },
  "language_info": {
   "codemirror_mode": {
    "name": "ipython",
    "version": 3
   },
   "file_extension": ".py",
   "mimetype": "text/x-python",
   "name": "python",
   "nbconvert_exporter": "python",
   "pygments_lexer": "ipython3",
   "version": "3.6.8"
  }
 },
 "nbformat": 4,
 "nbformat_minor": 4
}
