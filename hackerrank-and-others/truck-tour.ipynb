{
 "cells": [
  {
   "cell_type": "markdown",
   "metadata": {},
   "source": [
    "### **Truck Tour**\n",
    "Source: hackerrank"
   ]
  },
  {
   "cell_type": "code",
   "execution_count": 116,
   "metadata": {},
   "outputs": [],
   "source": [
    "def truckTour_1(petrolpumps):\n",
    "    #\n",
    "    # Write your code here.\n",
    "    #\n",
    "\n",
    "    total_petrol_pumps = len(petrolpumps)\n",
    "    incomplete_traversed = True\n",
    "    starting_pump = 0\n",
    "\n",
    "    while incomplete_traversed:\n",
    "        availeable_liters = 0\n",
    "        end_index = starting_pump + total_petrol_pumps\n",
    "\n",
    "        if starting_pump == total_petrol_pumps-1:\n",
    "            return None\n",
    "\n",
    "        for index in range(starting_pump, end_index):\n",
    "            current_index = index%total_petrol_pumps\n",
    "            current_pump = petrolpumps[current_index]\n",
    "            liters, distance = current_pump[0], current_pump[1]\n",
    "            availeable_liters += liters\n",
    "\n",
    "            if availeable_liters >= distance:\n",
    "                availeable_liters -= distance\n",
    "                if index == end_index-1:\n",
    "                    incomplete_traversed = False\n",
    "            else:\n",
    "                starting_pump += 1\n",
    "                break\n",
    "    \n",
    "    return starting_pump"
   ]
  },
  {
   "cell_type": "code",
   "execution_count": 117,
   "metadata": {},
   "outputs": [],
   "source": [
    "def truckTour_2(petrolpumps):\n",
    "\n",
    "    total_petrol_pumps = len(petrolpumps)\n",
    "    starting_pump = 0\n",
    "    end_pump = 1\n",
    "    \n",
    "    current_petrol_liters = petrolpumps[starting_pump][0] - petrolpumps[starting_pump][1]\n",
    "\n",
    "    while starting_pump != end_pump or current_petrol_liters < 0:\n",
    "        \n",
    "        while current_petrol_liters < 0 and starting_pump != end_pump:\n",
    "            \n",
    "            current_petrol_liters -= petrolpumps[starting_pump][0] - petrolpumps[starting_pump][1]\n",
    "            starting_pump = (starting_pump+1)%total_petrol_pumps\n",
    "            \n",
    "            if starting_pump == 0:\n",
    "                return None\n",
    "        \n",
    "        current_petrol_liters += petrolpumps[end_pump][0] - petrolpumps[end_pump][1]\n",
    "        end_pump = (end_pump+1)%total_petrol_pumps\n",
    "\n",
    "    return starting_pump"
   ]
  },
  {
   "cell_type": "code",
   "execution_count": 120,
   "metadata": {},
   "outputs": [],
   "source": [
    "assert truckTour_1([[1, 5], [2, 10], [3, 15]]) == None\n",
    "assert truckTour_2([[1, 5], [2, 10], [3, 15]]) == None\n",
    "assert truckTour_1([[1, 5], [10, 3], [3, 4]]) == 1\n",
    "assert truckTour_2([[1, 5], [10, 3], [3, 4]]) == 1"
   ]
  },
  {
   "cell_type": "code",
   "execution_count": 123,
   "metadata": {},
   "outputs": [
    {
     "name": "stdout",
     "output_type": "stream",
     "text": [
      "1.46 µs ± 34.8 ns per loop (mean ± std. dev. of 7 runs, 100000 loops each)\n"
     ]
    }
   ],
   "source": [
    "%timeit truckTour_1([[1, 5], [10, 3], [3, 4]])"
   ]
  },
  {
   "cell_type": "code",
   "execution_count": 124,
   "metadata": {},
   "outputs": [
    {
     "name": "stdout",
     "output_type": "stream",
     "text": [
      "1.06 µs ± 3.04 ns per loop (mean ± std. dev. of 7 runs, 1000000 loops each)\n"
     ]
    }
   ],
   "source": [
    "%timeit truckTour_2([[1, 5], [10, 3], [3, 4]])"
   ]
  }
 ],
 "metadata": {
  "kernelspec": {
   "display_name": "Python 3",
   "language": "python",
   "name": "python3"
  },
  "language_info": {
   "codemirror_mode": {
    "name": "ipython",
    "version": 3
   },
   "file_extension": ".py",
   "mimetype": "text/x-python",
   "name": "python",
   "nbconvert_exporter": "python",
   "pygments_lexer": "ipython3",
   "version": "3.6.8"
  }
 },
 "nbformat": 4,
 "nbformat_minor": 4
}
