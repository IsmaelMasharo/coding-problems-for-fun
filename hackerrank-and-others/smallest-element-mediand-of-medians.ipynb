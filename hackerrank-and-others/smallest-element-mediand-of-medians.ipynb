{
 "cells": [
  {
   "cell_type": "markdown",
   "metadata": {},
   "source": [
    "#### **K'th Smallest/Largest Element in array**\n",
    "Finding it in linear time: Median of medians"
   ]
  },
  {
   "cell_type": "code",
   "execution_count": 12,
   "metadata": {},
   "outputs": [],
   "source": [
    "def median_of_medians(array):\n",
    "    if len(array) <= 5: \n",
    "        return sorted(array)[len(array)//2]\n",
    "\n",
    "    len_5_arrays = [array[index:index+5] for index in range(0, len(array), 5)]\n",
    "    medians = [sorted(lte_five)[len(lte_five)//2] for lte_five in len_5_arrays]\n",
    "\n",
    "    return median_of_medians(medians)\n",
    "\n",
    "def quickselect_k_smallest(k, array, pivot_function):\n",
    "    \n",
    "    if k == 0: return None\n",
    "    p_value = pivot_function(array)\n",
    "\n",
    "    left = [value for value in array if value < p_value]\n",
    "    right = [value for value in array if value > p_value]\n",
    "\n",
    "    if len(left) == k: return left[-1]\n",
    "\n",
    "    if len(left) > k:\n",
    "        return quickselect_k_smallest(k, left, pivot_function)\n",
    "    else:\n",
    "        return quickselect_k_smallest(k-len(left), right, pivot_function)"
   ]
  },
  {
   "cell_type": "code",
   "execution_count": 13,
   "metadata": {},
   "outputs": [],
   "source": [
    "import random\n",
    "\n",
    "k_smallest = 1\n",
    "array = [1,2,3,4,5,1000,8,9,99]\n",
    "\n",
    "# quickselect_k_smallest with random pivot = quickselect\n",
    "assert quickselect_k_smallest(k_smallest, array, random.choice) == sorted(array)[k_smallest-1]\n",
    "\n",
    "# quickselect_k_smallest with median of medians =  median_of_medians\n",
    "assert quickselect_k_smallest(k_smallest, array, median_of_medians) == sorted(array)[k_smallest-1]"
   ]
  }
 ],
 "metadata": {
  "kernelspec": {
   "display_name": "Python 3",
   "language": "python",
   "name": "python3"
  },
  "language_info": {
   "codemirror_mode": {
    "name": "ipython",
    "version": 3
   },
   "file_extension": ".py",
   "mimetype": "text/x-python",
   "name": "python",
   "nbconvert_exporter": "python",
   "pygments_lexer": "ipython3",
   "version": "3.6.8"
  }
 },
 "nbformat": 4,
 "nbformat_minor": 4
}
